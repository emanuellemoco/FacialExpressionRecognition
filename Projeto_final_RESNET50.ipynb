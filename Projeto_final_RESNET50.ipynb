{
 "cells": [
  {
   "cell_type": "markdown",
   "metadata": {},
   "source": [
    "# Imports"
   ]
  },
  {
   "cell_type": "code",
   "execution_count": 1,
   "metadata": {},
   "outputs": [],
   "source": [
    "import tensorflow.python.keras.backend as K"
   ]
  },
  {
   "cell_type": "code",
   "execution_count": 6,
   "metadata": {},
   "outputs": [],
   "source": [
    "%matplotlib inline\n",
    "\n",
    "import matplotlib as mpl\n",
    "import matplotlib.pyplot as plt\n",
    "import numpy as np\n",
    "import pandas as pd\n",
    "import sklearn\n",
    "\n",
    "mpl.rc(\"axes\", labelsize=14)\n",
    "mpl.rc(\"xtick\", labelsize=12)\n",
    "mpl.rc(\"ytick\", labelsize=12)\n",
    "import tensorflow as tf\n",
    "from tensorflow import keras\n",
    "from keras.preprocessing.image import ImageDataGenerator"
   ]
  },
  {
   "cell_type": "code",
   "execution_count": 7,
   "metadata": {},
   "outputs": [],
   "source": [
    "import skimage.io\n",
    "import tensorflow as tf\n",
    "from tensorflow.keras.preprocessing.image import ImageDataGenerator\n",
    "from tensorflow.keras.applications import EfficientNetB0\n",
    "from tensorflow.keras.layers import Dense, Flatten, Dropout,BatchNormalization ,Activation\n",
    "from tensorflow.keras.models import Model, Sequential\n",
    "from keras.applications.nasnet import NASNetLarge\n",
    "from tensorflow.keras.callbacks import ReduceLROnPlateau, ModelCheckpoint, EarlyStopping\n",
    "from tensorflow.keras.optimizers import Adam"
   ]
  },
  {
   "cell_type": "markdown",
   "metadata": {},
   "source": [
    "# Construção Modelo"
   ]
  },
  {
   "cell_type": "code",
   "execution_count": 8,
   "metadata": {},
   "outputs": [],
   "source": [
    "from tensorflow.python.keras.models import Sequential\n",
    "from keras.layers import Conv2D, MaxPool2D, Flatten,Dense,Dropout,BatchNormalization\n",
    "from tensorflow.keras.preprocessing.image import ImageDataGenerator\n",
    "from tensorflow.keras.applications import VGG16, InceptionResNetV2\n",
    "from tensorflow.python.keras import regularizers\n",
    "from tensorflow.keras.optimizers import Adam,RMSprop,SGD,Adamax\n",
    "from tensorflow.keras.layers import Dense, Flatten, Dropout,BatchNormalization ,Activation\n",
    "import cv2"
   ]
  },
  {
   "cell_type": "code",
   "execution_count": 9,
   "metadata": {},
   "outputs": [],
   "source": [
    "IMAGE_HEIGHT, IMAGE_WIDTH, NUM_CHANNELS, NUM_CLASSES = 48, 48, 1, 7\n",
    "base_model = tf.keras.applications.EfficientNetB0(input_shape=(48,48,3),include_top=False,weights=\"imagenet\")"
   ]
  },
  {
   "cell_type": "code",
   "execution_count": 10,
   "metadata": {},
   "outputs": [],
   "source": [
    "# Freezing Layers\n",
    "for layer in base_model.layers:\n",
    "    layer.trainable=False"
   ]
  },
  {
   "cell_type": "code",
   "execution_count": 11,
   "metadata": {},
   "outputs": [],
   "source": [
    "model=Sequential()\n",
    "model.add(base_model)\n",
    "model.add(Dropout(0.5))\n",
    "model.add(Flatten())\n",
    "model.add(BatchNormalization())\n",
    "model.add(Dense(32,kernel_initializer='he_uniform'))\n",
    "model.add(BatchNormalization())\n",
    "model.add(Activation('relu'))\n",
    "model.add(Dropout(0.5))\n",
    "model.add(Dense(32,kernel_initializer='he_uniform'))\n",
    "model.add(BatchNormalization())\n",
    "model.add(Activation('relu'))\n",
    "model.add(Dropout(0.5))\n",
    "model.add(Dense(32,kernel_initializer='he_uniform'))\n",
    "model.add(BatchNormalization())\n",
    "model.add(Activation('relu'))\n",
    "model.add(Dense(7,activation='softmax'))"
   ]
  },
  {
   "cell_type": "code",
   "execution_count": 12,
   "metadata": {},
   "outputs": [
    {
     "name": "stdout",
     "output_type": "stream",
     "text": [
      "Model: \"sequential\"\n",
      "_________________________________________________________________\n",
      "Layer (type)                 Output Shape              Param #   \n",
      "=================================================================\n",
      "efficientnetb0 (Functional)  (None, 2, 2, 1280)        4049571   \n",
      "_________________________________________________________________\n",
      "dropout (Dropout)            (None, 2, 2, 1280)        0         \n",
      "_________________________________________________________________\n",
      "flatten (Flatten)            (None, 5120)              0         \n",
      "_________________________________________________________________\n",
      "batch_normalization (BatchNo (None, 5120)              20480     \n",
      "_________________________________________________________________\n",
      "dense (Dense)                (None, 32)                163872    \n",
      "_________________________________________________________________\n",
      "batch_normalization_1 (Batch (None, 32)                128       \n",
      "_________________________________________________________________\n",
      "activation (Activation)      (None, 32)                0         \n",
      "_________________________________________________________________\n",
      "dropout_1 (Dropout)          (None, 32)                0         \n",
      "_________________________________________________________________\n",
      "dense_1 (Dense)              (None, 32)                1056      \n",
      "_________________________________________________________________\n",
      "batch_normalization_2 (Batch (None, 32)                128       \n",
      "_________________________________________________________________\n",
      "activation_1 (Activation)    (None, 32)                0         \n",
      "_________________________________________________________________\n",
      "dropout_2 (Dropout)          (None, 32)                0         \n",
      "_________________________________________________________________\n",
      "dense_2 (Dense)              (None, 32)                1056      \n",
      "_________________________________________________________________\n",
      "batch_normalization_3 (Batch (None, 32)                128       \n",
      "_________________________________________________________________\n",
      "activation_2 (Activation)    (None, 32)                0         \n",
      "_________________________________________________________________\n",
      "dense_3 (Dense)              (None, 7)                 231       \n",
      "=================================================================\n",
      "Total params: 4,236,650\n",
      "Trainable params: 176,647\n",
      "Non-trainable params: 4,060,003\n",
      "_________________________________________________________________\n"
     ]
    }
   ],
   "source": [
    "model.summary()"
   ]
  },
  {
   "cell_type": "code",
   "execution_count": 13,
   "metadata": {},
   "outputs": [],
   "source": [
    "def f1_score(y_true, y_pred): #taken from old keras source code\n",
    "    true_positives = K.sum(K.round(K.clip(y_true * y_pred, 0, 1)))\n",
    "    possible_positives = K.sum(K.round(K.clip(y_true, 0, 1)))\n",
    "    predicted_positives = K.sum(K.round(K.clip(y_pred, 0, 1)))\n",
    "    precision = true_positives / (predicted_positives + K.epsilon())\n",
    "    recall = true_positives / (possible_positives + K.epsilon())\n",
    "    f1_val = 2*(precision*recall)/(precision+recall+K.epsilon())\n",
    "    return f1_val"
   ]
  },
  {
   "cell_type": "code",
   "execution_count": 14,
   "metadata": {},
   "outputs": [],
   "source": [
    "METRICS = [\n",
    "      tf.keras.metrics.BinaryAccuracy(name='accuracy'),\n",
    "      tf.keras.metrics.Precision(name='precision'),\n",
    "      tf.keras.metrics.Recall(name='recall'),  \n",
    "      tf.keras.metrics.AUC(name='auc'),\n",
    "        f1_score,\n",
    "]"
   ]
  },
  {
   "cell_type": "code",
   "execution_count": 15,
   "metadata": {},
   "outputs": [],
   "source": [
    "lrd = ReduceLROnPlateau(monitor = 'val_loss',patience = 20,verbose = 1,factor = 0.50, min_lr = 1e-10)\n",
    "\n",
    "mcp = ModelCheckpoint('model.h5')\n",
    "\n",
    "es = EarlyStopping(verbose=1, patience=20)"
   ]
  },
  {
   "cell_type": "code",
   "execution_count": 16,
   "metadata": {},
   "outputs": [],
   "source": [
    "model.compile(optimizer='Adam', loss='categorical_crossentropy',metrics=METRICS)"
   ]
  },
  {
   "cell_type": "markdown",
   "metadata": {},
   "source": [
    "# Treinamento e teste "
   ]
  },
  {
   "cell_type": "code",
   "execution_count": 17,
   "metadata": {},
   "outputs": [],
   "source": [
    "train_datagen = ImageDataGenerator(rescale = 1./255,\n",
    "                                   validation_split = 0.2,\n",
    "                                  \n",
    "        rotation_range=5,\n",
    "        width_shift_range=0.2,\n",
    "        height_shift_range=0.2,\n",
    "        shear_range=0.2,\n",
    "        #zoom_range=0.2,\n",
    "        horizontal_flip=True,\n",
    "        vertical_flip=True,\n",
    "        fill_mode='nearest')\n",
    "\n",
    "# valid_datagen = ImageDataGenerator(rescale = 1./255,\n",
    "#                                   validation_split = 0.2)\n",
    "\n",
    "test_datagen  = ImageDataGenerator(rescale = 1./255\n",
    "                                  )"
   ]
  },
  {
   "cell_type": "code",
   "execution_count": 18,
   "metadata": {},
   "outputs": [
    {
     "name": "stdout",
     "output_type": "stream",
     "text": [
      "Found 119 images belonging to 7 classes.\n"
     ]
    }
   ],
   "source": [
    "train_dataset  = train_datagen.flow_from_directory(directory = 'train_apagar',\n",
    "                                                   target_size = (48,48),\n",
    "                                                   color_mode = \"rgb\",\n",
    "                                                   class_mode = 'categorical',\n",
    "                                                   subset = 'training',\n",
    "                                                   batch_size = 64,\n",
    "                                                   shuffle=True)"
   ]
  },
  {
   "cell_type": "code",
   "execution_count": 19,
   "metadata": {},
   "outputs": [],
   "source": [
    "teste_y = train_dataset.classes"
   ]
  },
  {
   "cell_type": "code",
   "execution_count": 20,
   "metadata": {},
   "outputs": [
    {
     "name": "stdout",
     "output_type": "stream",
     "text": [
      "Found 28 images belonging to 7 classes.\n"
     ]
    }
   ],
   "source": [
    "###### valid_datagen OU train_datagen?????/\n",
    "valid_dataset = train_datagen.flow_from_directory(directory = 'train_apagar',\n",
    "                                                  target_size = (48,48),\n",
    "                                                  color_mode = \"rgb\",\n",
    "                                                  class_mode = 'categorical',\n",
    "                                                  subset = 'validation',\n",
    "                                                  batch_size = 64,\n",
    "                                                  shuffle=True)"
   ]
  },
  {
   "cell_type": "code",
   "execution_count": 21,
   "metadata": {},
   "outputs": [
    {
     "name": "stdout",
     "output_type": "stream",
     "text": [
      "Found 98 images belonging to 7 classes.\n"
     ]
    }
   ],
   "source": [
    "test_dataset = test_datagen.flow_from_directory(directory = 'test_apagar',\n",
    "                                                  target_size = (48,48),\n",
    "                                                  color_mode = \"rgb\",\n",
    "                                                  class_mode = 'categorical',\n",
    "                                                  batch_size = 64,\n",
    "                                                  shuffle=True)"
   ]
  },
  {
   "cell_type": "markdown",
   "metadata": {},
   "source": [
    "# Fit do modelo "
   ]
  },
  {
   "cell_type": "code",
   "execution_count": 22,
   "metadata": {},
   "outputs": [],
   "source": [
    "from keras.callbacks import CSVLogger"
   ]
  },
  {
   "cell_type": "code",
   "execution_count": 23,
   "metadata": {},
   "outputs": [
    {
     "name": "stdout",
     "output_type": "stream",
     "text": [
      "Epoch 1/60\n",
      "2/2 [==============================] - 7s 2s/step - loss: 2.3484 - accuracy: 0.8451 - precision: 0.0000e+00 - recall: 0.0000e+00 - auc: 0.4816 - f1_score: 0.0000e+00 - val_loss: 2.0000 - val_accuracy: 0.8571 - val_precision: 0.0000e+00 - val_recall: 0.0000e+00 - val_auc: 0.5000 - val_f1_score: 0.0000e+00\n",
      "Epoch 2/60\n",
      "2/2 [==============================] - 0s 213ms/step - loss: 2.4324 - accuracy: 0.8463 - precision: 0.0909 - recall: 0.0084 - auc: 0.4475 - f1_score: 0.0169 - val_loss: 1.9859 - val_accuracy: 0.8571 - val_precision: 0.0000e+00 - val_recall: 0.0000e+00 - val_auc: 0.5000 - val_f1_score: 0.0000e+00\n",
      "Epoch 3/60\n",
      "2/2 [==============================] - 0s 222ms/step - loss: 2.2323 - accuracy: 0.8499 - precision: 0.2000 - recall: 0.0168 - auc: 0.5257 - f1_score: 0.0312 - val_loss: 1.9748 - val_accuracy: 0.8571 - val_precision: 0.0000e+00 - val_recall: 0.0000e+00 - val_auc: 0.5004 - val_f1_score: 0.0000e+00\n",
      "Epoch 4/60\n",
      "2/2 [==============================] - 0s 191ms/step - loss: 2.3310 - accuracy: 0.8475 - precision: 0.1667 - recall: 0.0168 - auc: 0.4957 - f1_score: 0.0308 - val_loss: 1.9681 - val_accuracy: 0.8571 - val_precision: 0.0000e+00 - val_recall: 0.0000e+00 - val_auc: 0.5000 - val_f1_score: 0.0000e+00\n",
      "Epoch 5/60\n",
      "2/2 [==============================] - 0s 253ms/step - loss: 2.2373 - accuracy: 0.8511 - precision: 0.2727 - recall: 0.0252 - auc: 0.5048 - f1_score: 0.0476 - val_loss: 1.9628 - val_accuracy: 0.8571 - val_precision: 0.0000e+00 - val_recall: 0.0000e+00 - val_auc: 0.5038 - val_f1_score: 0.0000e+00\n",
      "Epoch 6/60\n",
      "2/2 [==============================] - 0s 277ms/step - loss: 2.1769 - accuracy: 0.8499 - precision: 0.2000 - recall: 0.0168 - auc: 0.5222 - f1_score: 0.0312 - val_loss: 1.9577 - val_accuracy: 0.8571 - val_precision: 0.0000e+00 - val_recall: 0.0000e+00 - val_auc: 0.5017 - val_f1_score: 0.0000e+00\n",
      "Epoch 7/60\n",
      "2/2 [==============================] - 1s 350ms/step - loss: 2.2285 - accuracy: 0.8451 - precision: 0.0000e+00 - recall: 0.0000e+00 - auc: 0.4919 - f1_score: 0.0000e+00 - val_loss: 1.9545 - val_accuracy: 0.8571 - val_precision: 0.0000e+00 - val_recall: 0.0000e+00 - val_auc: 0.4970 - val_f1_score: 0.0000e+00\n",
      "Epoch 8/60\n",
      "2/2 [==============================] - 1s 362ms/step - loss: 2.3715 - accuracy: 0.8463 - precision: 0.0909 - recall: 0.0084 - auc: 0.4337 - f1_score: 0.0161 - val_loss: 1.9526 - val_accuracy: 0.8571 - val_precision: 0.0000e+00 - val_recall: 0.0000e+00 - val_auc: 0.5000 - val_f1_score: 0.0000e+00\n",
      "Epoch 9/60\n",
      "2/2 [==============================] - 1s 400ms/step - loss: 2.2306 - accuracy: 0.8559 - precision: 0.4000 - recall: 0.0168 - auc: 0.4943 - f1_score: 0.0323 - val_loss: 1.9510 - val_accuracy: 0.8571 - val_precision: 0.0000e+00 - val_recall: 0.0000e+00 - val_auc: 0.5034 - val_f1_score: 0.0000e+00\n",
      "Epoch 10/60\n",
      "2/2 [==============================] - 1s 418ms/step - loss: 2.2393 - accuracy: 0.8499 - precision: 0.0000e+00 - recall: 0.0000e+00 - auc: 0.4901 - f1_score: 0.0000e+00 - val_loss: 1.9502 - val_accuracy: 0.8571 - val_precision: 0.0000e+00 - val_recall: 0.0000e+00 - val_auc: 0.5000 - val_f1_score: 0.0000e+00\n",
      "Epoch 11/60\n",
      "2/2 [==============================] - 1s 362ms/step - loss: 2.1425 - accuracy: 0.8511 - precision: 0.1429 - recall: 0.0084 - auc: 0.5214 - f1_score: 0.0167 - val_loss: 1.9500 - val_accuracy: 0.8571 - val_precision: 0.0000e+00 - val_recall: 0.0000e+00 - val_auc: 0.5034 - val_f1_score: 0.0000e+00\n",
      "Epoch 12/60\n",
      "2/2 [==============================] - 1s 355ms/step - loss: 2.0775 - accuracy: 0.8451 - precision: 0.0000e+00 - recall: 0.0000e+00 - auc: 0.5533 - f1_score: 0.0000e+00 - val_loss: 1.9494 - val_accuracy: 0.8571 - val_precision: 0.0000e+00 - val_recall: 0.0000e+00 - val_auc: 0.5017 - val_f1_score: 0.0000e+00\n",
      "Epoch 13/60\n",
      "2/2 [==============================] - 1s 516ms/step - loss: 2.1939 - accuracy: 0.8475 - precision: 0.0000e+00 - recall: 0.0000e+00 - auc: 0.4818 - f1_score: 0.0000e+00 - val_loss: 1.9492 - val_accuracy: 0.8571 - val_precision: 0.0000e+00 - val_recall: 0.0000e+00 - val_auc: 0.5000 - val_f1_score: 0.0000e+00\n",
      "Epoch 14/60\n",
      "2/2 [==============================] - 1s 405ms/step - loss: 2.1357 - accuracy: 0.8559 - precision: 0.0000e+00 - recall: 0.0000e+00 - auc: 0.5225 - f1_score: 0.0000e+00 - val_loss: 1.9492 - val_accuracy: 0.8571 - val_precision: 0.0000e+00 - val_recall: 0.0000e+00 - val_auc: 0.4945 - val_f1_score: 0.0000e+00\n",
      "Epoch 15/60\n",
      "2/2 [==============================] - 1s 413ms/step - loss: 2.1590 - accuracy: 0.8523 - precision: 0.1667 - recall: 0.0084 - auc: 0.4972 - f1_score: 0.0147 - val_loss: 1.9486 - val_accuracy: 0.8571 - val_precision: 0.0000e+00 - val_recall: 0.0000e+00 - val_auc: 0.5000 - val_f1_score: 0.0000e+00\n",
      "Epoch 16/60\n",
      "2/2 [==============================] - 1s 392ms/step - loss: 2.1551 - accuracy: 0.8487 - precision: 0.0000e+00 - recall: 0.0000e+00 - auc: 0.5071 - f1_score: 0.0000e+00 - val_loss: 1.9489 - val_accuracy: 0.8571 - val_precision: 0.0000e+00 - val_recall: 0.0000e+00 - val_auc: 0.5009 - val_f1_score: 0.0000e+00\n",
      "Epoch 17/60\n",
      "2/2 [==============================] - 1s 342ms/step - loss: 2.1867 - accuracy: 0.8499 - precision: 0.0000e+00 - recall: 0.0000e+00 - auc: 0.5110 - f1_score: 0.0000e+00 - val_loss: 1.9492 - val_accuracy: 0.8571 - val_precision: 0.0000e+00 - val_recall: 0.0000e+00 - val_auc: 0.5128 - val_f1_score: 0.0000e+00\n",
      "Epoch 18/60\n",
      "2/2 [==============================] - 1s 436ms/step - loss: 2.2247 - accuracy: 0.8547 - precision: 0.0000e+00 - recall: 0.0000e+00 - auc: 0.4913 - f1_score: 0.0000e+00 - val_loss: 1.9494 - val_accuracy: 0.8571 - val_precision: 0.0000e+00 - val_recall: 0.0000e+00 - val_auc: 0.5013 - val_f1_score: 0.0000e+00\n",
      "Epoch 19/60\n",
      "2/2 [==============================] - 1s 805ms/step - loss: 2.2709 - accuracy: 0.8547 - precision: 0.0000e+00 - recall: 0.0000e+00 - auc: 0.4558 - f1_score: 0.0000e+00 - val_loss: 1.9496 - val_accuracy: 0.8571 - val_precision: 0.0000e+00 - val_recall: 0.0000e+00 - val_auc: 0.5000 - val_f1_score: 0.0000e+00\n",
      "Epoch 20/60\n",
      "2/2 [==============================] - 1s 496ms/step - loss: 2.2093 - accuracy: 0.8535 - precision: 0.2000 - recall: 0.0084 - auc: 0.4884 - f1_score: 0.0149 - val_loss: 1.9496 - val_accuracy: 0.8571 - val_precision: 0.0000e+00 - val_recall: 0.0000e+00 - val_auc: 0.5000 - val_f1_score: 0.0000e+00\n",
      "Epoch 21/60\n",
      "2/2 [==============================] - 1s 497ms/step - loss: 2.1327 - accuracy: 0.8523 - precision: 0.1667 - recall: 0.0084 - auc: 0.5174 - f1_score: 0.0149 - val_loss: 1.9499 - val_accuracy: 0.8571 - val_precision: 0.0000e+00 - val_recall: 0.0000e+00 - val_auc: 0.4966 - val_f1_score: 0.0000e+00\n",
      "Epoch 22/60\n",
      "2/2 [==============================] - 1s 324ms/step - loss: 2.1388 - accuracy: 0.8511 - precision: 0.0000e+00 - recall: 0.0000e+00 - auc: 0.4899 - f1_score: 0.0000e+00 - val_loss: 1.9499 - val_accuracy: 0.8571 - val_precision: 0.0000e+00 - val_recall: 0.0000e+00 - val_auc: 0.5064 - val_f1_score: 0.0000e+00\n",
      "Epoch 23/60\n",
      "2/2 [==============================] - 1s 322ms/step - loss: 2.1904 - accuracy: 0.8559 - precision: 0.3333 - recall: 0.0084 - auc: 0.4740 - f1_score: 0.0175 - val_loss: 1.9503 - val_accuracy: 0.8571 - val_precision: 0.0000e+00 - val_recall: 0.0000e+00 - val_auc: 0.5013 - val_f1_score: 0.0000e+00\n",
      "Epoch 24/60\n",
      "2/2 [==============================] - 1s 307ms/step - loss: 2.1534 - accuracy: 0.8511 - precision: 0.0000e+00 - recall: 0.0000e+00 - auc: 0.4692 - f1_score: 0.0000e+00 - val_loss: 1.9502 - val_accuracy: 0.8571 - val_precision: 0.0000e+00 - val_recall: 0.0000e+00 - val_auc: 0.5000 - val_f1_score: 0.0000e+00\n",
      "Epoch 25/60\n",
      "2/2 [==============================] - 1s 319ms/step - loss: 2.1403 - accuracy: 0.8535 - precision: 0.2000 - recall: 0.0084 - auc: 0.5047 - f1_score: 0.0172 - val_loss: 1.9506 - val_accuracy: 0.8571 - val_precision: 0.0000e+00 - val_recall: 0.0000e+00 - val_auc: 0.5000 - val_f1_score: 0.0000e+00\n",
      "Epoch 26/60\n",
      "2/2 [==============================] - 1s 356ms/step - loss: 2.1074 - accuracy: 0.8535 - precision: 0.0000e+00 - recall: 0.0000e+00 - auc: 0.5374 - f1_score: 0.0000e+00 - val_loss: 1.9511 - val_accuracy: 0.8571 - val_precision: 0.0000e+00 - val_recall: 0.0000e+00 - val_auc: 0.4949 - val_f1_score: 0.0000e+00\n",
      "Epoch 27/60\n"
     ]
    },
    {
     "name": "stdout",
     "output_type": "stream",
     "text": [
      "2/2 [==============================] - 1s 358ms/step - loss: 2.0897 - accuracy: 0.8523 - precision: 0.0000e+00 - recall: 0.0000e+00 - auc: 0.5164 - f1_score: 0.0000e+00 - val_loss: 1.9509 - val_accuracy: 0.8571 - val_precision: 0.0000e+00 - val_recall: 0.0000e+00 - val_auc: 0.5000 - val_f1_score: 0.0000e+00\n",
      "Epoch 28/60\n",
      "2/2 [==============================] - 1s 419ms/step - loss: 2.0386 - accuracy: 0.8535 - precision: 0.2000 - recall: 0.0084 - auc: 0.5490 - f1_score: 0.0169 - val_loss: 1.9514 - val_accuracy: 0.8571 - val_precision: 0.0000e+00 - val_recall: 0.0000e+00 - val_auc: 0.4940 - val_f1_score: 0.0000e+00\n",
      "Epoch 29/60\n",
      "2/2 [==============================] - 1s 481ms/step - loss: 2.1894 - accuracy: 0.8523 - precision: 0.0000e+00 - recall: 0.0000e+00 - auc: 0.4454 - f1_score: 0.0000e+00 - val_loss: 1.9516 - val_accuracy: 0.8571 - val_precision: 0.0000e+00 - val_recall: 0.0000e+00 - val_auc: 0.5000 - val_f1_score: 0.0000e+00\n",
      "Epoch 30/60\n",
      "2/2 [==============================] - 1s 515ms/step - loss: 2.1575 - accuracy: 0.8547 - precision: 0.2500 - recall: 0.0084 - auc: 0.4591 - f1_score: 0.0147 - val_loss: 1.9520 - val_accuracy: 0.8571 - val_precision: 0.0000e+00 - val_recall: 0.0000e+00 - val_auc: 0.5000 - val_f1_score: 0.0000e+00\n",
      "Epoch 31/60\n",
      "2/2 [==============================] - 1s 455ms/step - loss: 2.0752 - accuracy: 0.8559 - precision: 0.3333 - recall: 0.0084 - auc: 0.5014 - f1_score: 0.0154 - val_loss: 1.9521 - val_accuracy: 0.8571 - val_precision: 0.0000e+00 - val_recall: 0.0000e+00 - val_auc: 0.5009 - val_f1_score: 0.0000e+00\n",
      "Epoch 32/60\n",
      "2/2 [==============================] - 1s 381ms/step - loss: 2.0622 - accuracy: 0.8559 - precision: 0.3333 - recall: 0.0084 - auc: 0.5119 - f1_score: 0.0152 - val_loss: 1.9523 - val_accuracy: 0.8571 - val_precision: 0.0000e+00 - val_recall: 0.0000e+00 - val_auc: 0.4991 - val_f1_score: 0.0000e+00\n",
      "Epoch 33/60\n",
      "2/2 [==============================] - 1s 357ms/step - loss: 2.0683 - accuracy: 0.8535 - precision: 0.0000e+00 - recall: 0.0000e+00 - auc: 0.5105 - f1_score: 0.0000e+00 - val_loss: 1.9520 - val_accuracy: 0.8571 - val_precision: 0.0000e+00 - val_recall: 0.0000e+00 - val_auc: 0.5000 - val_f1_score: 0.0000e+00\n",
      "Epoch 34/60\n",
      "2/2 [==============================] - 1s 340ms/step - loss: 2.0788 - accuracy: 0.8547 - precision: 0.0000e+00 - recall: 0.0000e+00 - auc: 0.5017 - f1_score: 0.0000e+00 - val_loss: 1.9523 - val_accuracy: 0.8571 - val_precision: 0.0000e+00 - val_recall: 0.0000e+00 - val_auc: 0.5000 - val_f1_score: 0.0000e+00\n",
      "Epoch 35/60\n",
      "2/2 [==============================] - 1s 505ms/step - loss: 2.0428 - accuracy: 0.8559 - precision: 0.0000e+00 - recall: 0.0000e+00 - auc: 0.5248 - f1_score: 0.0000e+00 - val_loss: 1.9525 - val_accuracy: 0.8571 - val_precision: 0.0000e+00 - val_recall: 0.0000e+00 - val_auc: 0.5068 - val_f1_score: 0.0000e+00\n",
      "Epoch 36/60\n",
      "2/2 [==============================] - 1s 386ms/step - loss: 2.0305 - accuracy: 0.8559 - precision: 0.0000e+00 - recall: 0.0000e+00 - auc: 0.5204 - f1_score: 0.0000e+00 - val_loss: 1.9527 - val_accuracy: 0.8571 - val_precision: 0.0000e+00 - val_recall: 0.0000e+00 - val_auc: 0.5000 - val_f1_score: 0.0000e+00\n",
      "Epoch 37/60\n",
      "2/2 [==============================] - 1s 397ms/step - loss: 2.1268 - accuracy: 0.8475 - precision: 0.0000e+00 - recall: 0.0000e+00 - auc: 0.4959 - f1_score: 0.0000e+00 - val_loss: 1.9521 - val_accuracy: 0.8571 - val_precision: 0.0000e+00 - val_recall: 0.0000e+00 - val_auc: 0.5000 - val_f1_score: 0.0000e+00\n",
      "Epoch 38/60\n",
      "2/2 [==============================] - 1s 356ms/step - loss: 2.0964 - accuracy: 0.8547 - precision: 0.0000e+00 - recall: 0.0000e+00 - auc: 0.4895 - f1_score: 0.0000e+00 - val_loss: 1.9526 - val_accuracy: 0.8571 - val_precision: 0.0000e+00 - val_recall: 0.0000e+00 - val_auc: 0.4861 - val_f1_score: 0.0000e+00\n",
      "Epoch 39/60\n",
      "2/2 [==============================] - 1s 382ms/step - loss: 2.0726 - accuracy: 0.8547 - precision: 0.0000e+00 - recall: 0.0000e+00 - auc: 0.4917 - f1_score: 0.0000e+00 - val_loss: 1.9527 - val_accuracy: 0.8571 - val_precision: 0.0000e+00 - val_recall: 0.0000e+00 - val_auc: 0.5004 - val_f1_score: 0.0000e+00\n",
      "Epoch 40/60\n",
      "2/2 [==============================] - 1s 340ms/step - loss: 2.1151 - accuracy: 0.8559 - precision: 0.0000e+00 - recall: 0.0000e+00 - auc: 0.4663 - f1_score: 0.0000e+00 - val_loss: 1.9528 - val_accuracy: 0.8571 - val_precision: 0.0000e+00 - val_recall: 0.0000e+00 - val_auc: 0.5004 - val_f1_score: 0.0000e+00\n",
      "Epoch 41/60\n",
      "2/2 [==============================] - 1s 367ms/step - loss: 2.1431 - accuracy: 0.8547 - precision: 0.0000e+00 - recall: 0.0000e+00 - auc: 0.4716 - f1_score: 0.0000e+00 - val_loss: 1.9527 - val_accuracy: 0.8571 - val_precision: 0.0000e+00 - val_recall: 0.0000e+00 - val_auc: 0.5051 - val_f1_score: 0.0000e+00\n",
      "Epoch 42/60\n",
      "2/2 [==============================] - 1s 343ms/step - loss: 2.0888 - accuracy: 0.8547 - precision: 0.2500 - recall: 0.0084 - auc: 0.4938 - f1_score: 0.0179 - val_loss: 1.9524 - val_accuracy: 0.8571 - val_precision: 0.0000e+00 - val_recall: 0.0000e+00 - val_auc: 0.5017 - val_f1_score: 0.0000e+00\n",
      "Epoch 43/60\n",
      "2/2 [==============================] - 1s 312ms/step - loss: 2.0760 - accuracy: 0.8559 - precision: 0.0000e+00 - recall: 0.0000e+00 - auc: 0.5029 - f1_score: 0.0000e+00 - val_loss: 1.9528 - val_accuracy: 0.8571 - val_precision: 0.0000e+00 - val_recall: 0.0000e+00 - val_auc: 0.4891 - val_f1_score: 0.0000e+00\n",
      "Epoch 44/60\n",
      "2/2 [==============================] - 1s 317ms/step - loss: 2.0667 - accuracy: 0.8547 - precision: 0.0000e+00 - recall: 0.0000e+00 - auc: 0.5051 - f1_score: 0.0000e+00 - val_loss: 1.9531 - val_accuracy: 0.8571 - val_precision: 0.0000e+00 - val_recall: 0.0000e+00 - val_auc: 0.4959 - val_f1_score: 0.0000e+00\n",
      "Epoch 45/60\n",
      "2/2 [==============================] - 1s 416ms/step - loss: 2.0295 - accuracy: 0.8571 - precision: 0.0000e+00 - recall: 0.0000e+00 - auc: 0.5174 - f1_score: 0.0000e+00 - val_loss: 1.9533 - val_accuracy: 0.8571 - val_precision: 0.0000e+00 - val_recall: 0.0000e+00 - val_auc: 0.4983 - val_f1_score: 0.0000e+00\n",
      "Epoch 46/60\n",
      "2/2 [==============================] - 1s 476ms/step - loss: 1.9695 - accuracy: 0.8559 - precision: 0.0000e+00 - recall: 0.0000e+00 - auc: 0.5743 - f1_score: 0.0000e+00 - val_loss: 1.9530 - val_accuracy: 0.8571 - val_precision: 0.0000e+00 - val_recall: 0.0000e+00 - val_auc: 0.4983 - val_f1_score: 0.0000e+00\n",
      "Epoch 47/60\n",
      "2/2 [==============================] - 1s 399ms/step - loss: 2.0930 - accuracy: 0.8571 - precision: 0.0000e+00 - recall: 0.0000e+00 - auc: 0.4748 - f1_score: 0.0000e+00 - val_loss: 1.9535 - val_accuracy: 0.8571 - val_precision: 0.0000e+00 - val_recall: 0.0000e+00 - val_auc: 0.5000 - val_f1_score: 0.0000e+00\n",
      "Epoch 48/60\n",
      "2/2 [==============================] - 1s 382ms/step - loss: 2.1468 - accuracy: 0.8559 - precision: 0.0000e+00 - recall: 0.0000e+00 - auc: 0.4659 - f1_score: 0.0000e+00 - val_loss: 1.9535 - val_accuracy: 0.8571 - val_precision: 0.0000e+00 - val_recall: 0.0000e+00 - val_auc: 0.5000 - val_f1_score: 0.0000e+00\n",
      "Epoch 49/60\n",
      "2/2 [==============================] - 1s 431ms/step - loss: 2.1524 - accuracy: 0.8571 - precision: 0.5000 - recall: 0.0084 - auc: 0.4288 - f1_score: 0.0154 - val_loss: 1.9534 - val_accuracy: 0.8571 - val_precision: 0.0000e+00 - val_recall: 0.0000e+00 - val_auc: 0.5000 - val_f1_score: 0.0000e+00\n",
      "Epoch 50/60\n",
      "2/2 [==============================] - 1s 329ms/step - loss: 2.0961 - accuracy: 0.8547 - precision: 0.0000e+00 - recall: 0.0000e+00 - auc: 0.4730 - f1_score: 0.0000e+00 - val_loss: 1.9534 - val_accuracy: 0.8571 - val_precision: 0.0000e+00 - val_recall: 0.0000e+00 - val_auc: 0.5000 - val_f1_score: 0.0000e+00\n",
      "Epoch 51/60\n",
      "2/2 [==============================] - 1s 354ms/step - loss: 2.0376 - accuracy: 0.8523 - precision: 0.1667 - recall: 0.0084 - auc: 0.5287 - f1_score: 0.0167 - val_loss: 1.9536 - val_accuracy: 0.8571 - val_precision: 0.0000e+00 - val_recall: 0.0000e+00 - val_auc: 0.5017 - val_f1_score: 0.0000e+00\n",
      "Epoch 52/60\n",
      "2/2 [==============================] - 1s 428ms/step - loss: 2.0835 - accuracy: 0.8571 - precision: 0.5000 - recall: 0.0084 - auc: 0.4789 - f1_score: 0.0179 - val_loss: 1.9542 - val_accuracy: 0.8571 - val_precision: 0.0000e+00 - val_recall: 0.0000e+00 - val_auc: 0.5004 - val_f1_score: 0.0000e+00\n"
     ]
    },
    {
     "name": "stdout",
     "output_type": "stream",
     "text": [
      "Epoch 53/60\n",
      "2/2 [==============================] - 1s 349ms/step - loss: 2.0440 - accuracy: 0.8547 - precision: 0.0000e+00 - recall: 0.0000e+00 - auc: 0.5186 - f1_score: 0.0000e+00 - val_loss: 1.9532 - val_accuracy: 0.8571 - val_precision: 0.0000e+00 - val_recall: 0.0000e+00 - val_auc: 0.5000 - val_f1_score: 0.0000e+00\n",
      "Epoch 54/60\n",
      "2/2 [==============================] - 1s 364ms/step - loss: 2.0548 - accuracy: 0.8559 - precision: 0.0000e+00 - recall: 0.0000e+00 - auc: 0.5131 - f1_score: 0.0000e+00 - val_loss: 1.9534 - val_accuracy: 0.8571 - val_precision: 0.0000e+00 - val_recall: 0.0000e+00 - val_auc: 0.4966 - val_f1_score: 0.0000e+00\n",
      "Epoch 55/60\n",
      "2/2 [==============================] - 1s 407ms/step - loss: 2.0408 - accuracy: 0.8547 - precision: 0.0000e+00 - recall: 0.0000e+00 - auc: 0.4976 - f1_score: 0.0000e+00 - val_loss: 1.9542 - val_accuracy: 0.8571 - val_precision: 0.0000e+00 - val_recall: 0.0000e+00 - val_auc: 0.4983 - val_f1_score: 0.0000e+00\n",
      "Epoch 56/60\n",
      "2/2 [==============================] - 1s 340ms/step - loss: 2.0442 - accuracy: 0.8571 - precision: 0.0000e+00 - recall: 0.0000e+00 - auc: 0.5014 - f1_score: 0.0000e+00 - val_loss: 1.9535 - val_accuracy: 0.8571 - val_precision: 0.0000e+00 - val_recall: 0.0000e+00 - val_auc: 0.4983 - val_f1_score: 0.0000e+00\n",
      "Epoch 57/60\n",
      "2/2 [==============================] - 1s 457ms/step - loss: 2.1098 - accuracy: 0.8571 - precision: 0.5000 - recall: 0.0084 - auc: 0.4638 - f1_score: 0.0152 - val_loss: 1.9537 - val_accuracy: 0.8571 - val_precision: 0.0000e+00 - val_recall: 0.0000e+00 - val_auc: 0.4894 - val_f1_score: 0.0000e+00\n",
      "Epoch 58/60\n",
      "2/2 [==============================] - 1s 377ms/step - loss: 2.0793 - accuracy: 0.8535 - precision: 0.0000e+00 - recall: 0.0000e+00 - auc: 0.4722 - f1_score: 0.0000e+00 - val_loss: 1.9539 - val_accuracy: 0.8571 - val_precision: 0.0000e+00 - val_recall: 0.0000e+00 - val_auc: 0.5013 - val_f1_score: 0.0000e+00\n",
      "Epoch 59/60\n",
      "2/2 [==============================] - 1s 431ms/step - loss: 2.0577 - accuracy: 0.8547 - precision: 0.0000e+00 - recall: 0.0000e+00 - auc: 0.4928 - f1_score: 0.0000e+00 - val_loss: 1.9534 - val_accuracy: 0.8571 - val_precision: 0.0000e+00 - val_recall: 0.0000e+00 - val_auc: 0.5017 - val_f1_score: 0.0000e+00\n",
      "Epoch 60/60\n",
      "2/2 [==============================] - 1s 381ms/step - loss: 2.0025 - accuracy: 0.8571 - precision: 0.0000e+00 - recall: 0.0000e+00 - auc: 0.5438 - f1_score: 0.0000e+00 - val_loss: 1.9535 - val_accuracy: 0.8571 - val_precision: 0.0000e+00 - val_recall: 0.0000e+00 - val_auc: 0.4945 - val_f1_score: 0.0000e+00\n"
     ]
    }
   ],
   "source": [
    "epochs = 60\n",
    "batch_size = 64\n",
    "history = model.fit(x = train_dataset,epochs = epochs,validation_data = valid_dataset)"
   ]
  },
  {
   "cell_type": "markdown",
   "metadata": {},
   "source": [
    "## Salvando o history em json"
   ]
  },
  {
   "cell_type": "code",
   "execution_count": null,
   "metadata": {},
   "outputs": [],
   "source": [
    "hist_df = pd.DataFrame(history.history) \n",
    "\n",
    "# save to json:  \n",
    "hist_json_file = 'history_RESNET50.json' \n",
    "with open(hist_json_file, mode='w') as f:\n",
    "    hist_df.to_json(f)"
   ]
  },
  {
   "cell_type": "markdown",
   "metadata": {},
   "source": [
    "## Salvando o modelo"
   ]
  },
  {
   "cell_type": "code",
   "execution_count": null,
   "metadata": {},
   "outputs": [],
   "source": [
    "model.save(\"modelo_RESNET50\")"
   ]
  },
  {
   "cell_type": "code",
   "execution_count": null,
   "metadata": {},
   "outputs": [],
   "source": [
    "fig , ax = plt.subplots(1,2)\n",
    "train_acc = history.history['accuracy']\n",
    "train_loss = history.history['loss']\n",
    "train_l = history.history['val_accuracy']\n",
    "fig.set_size_inches(12,4)\n",
    "\n",
    "ax[0].plot(history.history['accuracy'])\n",
    "ax[0].plot(history.history['val_accuracy'])\n",
    "ax[0].set_title('Training Accuracy vs Validation Accuracy')\n",
    "ax[0].set_ylabel('Accuracy')\n",
    "ax[0].set_xlabel('Epoch')\n",
    "ax[0].legend(['Train', 'Validation'], loc='upper left')\n",
    "\n",
    "ax[1].plot(history.history['loss'])\n",
    "ax[1].plot(history.history['val_loss'])\n",
    "ax[1].set_title('Training Loss vs Validation Loss')\n",
    "ax[1].set_ylabel('Loss')\n",
    "ax[1].set_xlabel('Epoch')\n",
    "ax[1].legend(['Train', 'Validation'], loc='upper left')\n",
    "\n",
    "plt.show()"
   ]
  },
  {
   "cell_type": "markdown",
   "metadata": {},
   "source": [
    "## Evaluate "
   ]
  },
  {
   "cell_type": "code",
   "execution_count": null,
   "metadata": {},
   "outputs": [],
   "source": [
    "results = model.evaluate(test_dataset, batch_size=64)"
   ]
  },
  {
   "cell_type": "code",
   "execution_count": null,
   "metadata": {},
   "outputs": [],
   "source": []
  },
  {
   "cell_type": "code",
   "execution_count": null,
   "metadata": {},
   "outputs": [],
   "source": []
  }
 ],
 "metadata": {
  "kernelspec": {
   "display_name": "Python 3",
   "language": "python",
   "name": "python3"
  },
  "language_info": {
   "codemirror_mode": {
    "name": "ipython",
    "version": 3
   },
   "file_extension": ".py",
   "mimetype": "text/x-python",
   "name": "python",
   "nbconvert_exporter": "python",
   "pygments_lexer": "ipython3",
   "version": "3.9.5"
  }
 },
 "nbformat": 4,
 "nbformat_minor": 4
}
