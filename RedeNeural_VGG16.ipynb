{
 "cells": [
  {
   "cell_type": "markdown",
   "metadata": {},
   "source": [
    "# Imports"
   ]
  },
  {
   "cell_type": "code",
   "execution_count": 3,
   "metadata": {},
   "outputs": [],
   "source": [
    "%matplotlib inline\n",
    "\n",
    "import matplotlib as mpl\n",
    "import matplotlib.pyplot as plt\n",
    "import numpy as np\n",
    "import pandas as pd\n",
    "import sklearn\n",
    "\n",
    "mpl.rc(\"axes\", labelsize=14)\n",
    "mpl.rc(\"xtick\", labelsize=12)\n",
    "mpl.rc(\"ytick\", labelsize=12)\n",
    "\n",
    "import tensorflow as tf\n",
    "from tensorflow import keras\n",
    "from keras.preprocessing.image import ImageDataGenerator"
   ]
  },
  {
   "cell_type": "code",
   "execution_count": 4,
   "metadata": {},
   "outputs": [],
   "source": [
    "import skimage.io\n",
    "import seaborn as sn"
   ]
  },
  {
   "cell_type": "code",
   "execution_count": 5,
   "metadata": {},
   "outputs": [],
   "source": [
    "import tensorflow.python.keras.backend as K"
   ]
  },
  {
   "cell_type": "code",
   "execution_count": 6,
   "metadata": {},
   "outputs": [],
   "source": [
    "from tensorflow.keras.preprocessing.image import ImageDataGenerator\n",
    "from tensorflow.keras.applications import VGG16\n",
    "from tensorflow.keras.layers import Dense, Flatten, Dropout,BatchNormalization ,Activation\n",
    "from tensorflow.keras.models import Model, Sequential\n",
    "from keras.applications.nasnet import NASNetLarge\n",
    "from tensorflow.keras.callbacks import ReduceLROnPlateau, ModelCheckpoint, EarlyStopping\n",
    "from tensorflow.keras.optimizers import Adam"
   ]
  },
  {
   "cell_type": "markdown",
   "metadata": {},
   "source": [
    "# Treinamento e teste "
   ]
  },
  {
   "cell_type": "code",
   "execution_count": 7,
   "metadata": {},
   "outputs": [],
   "source": [
    "train_datagen = ImageDataGenerator(rescale = 1./255,\n",
    "                                   validation_split = 0.2,\n",
    "                                  \n",
    "        rotation_range=5,\n",
    "        width_shift_range=0.2,\n",
    "        height_shift_range=0.2,\n",
    "        shear_range=0.2,\n",
    "        #zoom_range=0.2,\n",
    "        horizontal_flip=True,\n",
    "        vertical_flip=True,\n",
    "        fill_mode='nearest')\n",
    "\n",
    "\n",
    "test_datagen  = ImageDataGenerator(rescale = 1./255\n",
    "                                  )"
   ]
  },
  {
   "cell_type": "code",
   "execution_count": 8,
   "metadata": {},
   "outputs": [
    {
     "name": "stdout",
     "output_type": "stream",
     "text": [
      "Found 22968 images belonging to 7 classes.\n"
     ]
    }
   ],
   "source": [
    "train_dataset  = train_datagen.flow_from_directory(directory = 'train',\n",
    "                                                   target_size = (48,48),\n",
    "                                                   color_mode = \"rgb\",\n",
    "                                                   class_mode = 'categorical',\n",
    "                                                   subset = 'training',\n",
    "                                                   batch_size = 64,\n",
    "                                                   shuffle=True)"
   ]
  },
  {
   "cell_type": "code",
   "execution_count": 9,
   "metadata": {},
   "outputs": [],
   "source": [
    "result = next(train_dataset)"
   ]
  },
  {
   "cell_type": "code",
   "execution_count": 10,
   "metadata": {},
   "outputs": [
    {
     "data": {
      "text/plain": [
       "(64, 48, 48, 3)"
      ]
     },
     "execution_count": 10,
     "metadata": {},
     "output_type": "execute_result"
    }
   ],
   "source": [
    "result[0].shape"
   ]
  },
  {
   "cell_type": "code",
   "execution_count": 11,
   "metadata": {},
   "outputs": [],
   "source": [
    "teste_y = train_dataset.classes"
   ]
  },
  {
   "cell_type": "code",
   "execution_count": 12,
   "metadata": {},
   "outputs": [
    {
     "name": "stdout",
     "output_type": "stream",
     "text": [
      "Found 5741 images belonging to 7 classes.\n"
     ]
    }
   ],
   "source": [
    "valid_dataset = train_datagen.flow_from_directory(directory = 'train',\n",
    "                                                  target_size = (48,48),\n",
    "                                                  color_mode = \"rgb\",\n",
    "                                                  class_mode = 'categorical',\n",
    "                                                  subset = 'validation',\n",
    "                                                  batch_size = 64,\n",
    "                                                  shuffle=True)"
   ]
  },
  {
   "cell_type": "code",
   "execution_count": 13,
   "metadata": {
    "scrolled": true
   },
   "outputs": [
    {
     "name": "stdout",
     "output_type": "stream",
     "text": [
      "Found 7178 images belonging to 7 classes.\n"
     ]
    }
   ],
   "source": [
    "test_dataset = test_datagen.flow_from_directory(directory = 'test',\n",
    "                                                  target_size = (48,48),\n",
    "                                                  color_mode = \"rgb\",\n",
    "                                                  class_mode = 'categorical',\n",
    "                                                  batch_size = 64,\n",
    "                                                  shuffle=True)"
   ]
  },
  {
   "cell_type": "markdown",
   "metadata": {},
   "source": [
    "# Construção Modelo"
   ]
  },
  {
   "cell_type": "code",
   "execution_count": 14,
   "metadata": {},
   "outputs": [],
   "source": [
    "base_model = tf.keras.applications.VGG16(input_shape=(48,48,3),include_top=False,weights=\"imagenet\")"
   ]
  },
  {
   "cell_type": "code",
   "execution_count": 15,
   "metadata": {},
   "outputs": [],
   "source": [
    "# Freezing Layers\n",
    "for layer in base_model.layers:\n",
    "    layer.trainable=False"
   ]
  },
  {
   "cell_type": "code",
   "execution_count": 16,
   "metadata": {},
   "outputs": [],
   "source": [
    "custom_model = Sequential()\n",
    "\n",
    "custom_model.add(Dropout(0.5))\n",
    "custom_model.add(Flatten())\n",
    "custom_model.add(BatchNormalization())\n",
    "custom_model.add(Dense(32,kernel_initializer='he_uniform'))\n",
    "custom_model.add(BatchNormalization())\n",
    "custom_model.add(Activation('relu'))\n",
    "custom_model.add(Dropout(0.5))\n",
    "custom_model.add(Dense(32,kernel_initializer='he_uniform'))\n",
    "custom_model.add(BatchNormalization())\n",
    "custom_model.add(Activation('relu'))\n",
    "custom_model.add(Dropout(0.5))\n",
    "custom_model.add(Dense(32,kernel_initializer='he_uniform'))\n",
    "custom_model.add(BatchNormalization())\n",
    "custom_model.add(Activation('relu'))\n",
    "custom_model.add(Dense(7,activation='softmax'))"
   ]
  },
  {
   "cell_type": "code",
   "execution_count": 17,
   "metadata": {},
   "outputs": [],
   "source": [
    "# Building Model\n",
    "model=Sequential()\n",
    "model.add(base_model)\n",
    "model.add(custom_model)"
   ]
  },
  {
   "cell_type": "code",
   "execution_count": 18,
   "metadata": {},
   "outputs": [
    {
     "name": "stdout",
     "output_type": "stream",
     "text": [
      "Model: \"sequential_1\"\n",
      "_________________________________________________________________\n",
      "Layer (type)                 Output Shape              Param #   \n",
      "=================================================================\n",
      "vgg16 (Functional)           (None, 1, 1, 512)         14714688  \n",
      "_________________________________________________________________\n",
      "sequential (Sequential)      (None, 7)                 21191     \n",
      "=================================================================\n",
      "Total params: 14,735,879\n",
      "Trainable params: 19,975\n",
      "Non-trainable params: 14,715,904\n",
      "_________________________________________________________________\n"
     ]
    }
   ],
   "source": [
    "model.summary()"
   ]
  },
  {
   "cell_type": "code",
   "execution_count": 19,
   "metadata": {},
   "outputs": [
    {
     "name": "stdout",
     "output_type": "stream",
     "text": [
      "Model: \"sequential\"\n",
      "_________________________________________________________________\n",
      "Layer (type)                 Output Shape              Param #   \n",
      "=================================================================\n",
      "dropout (Dropout)            (None, 1, 1, 512)         0         \n",
      "_________________________________________________________________\n",
      "flatten (Flatten)            (None, 512)               0         \n",
      "_________________________________________________________________\n",
      "batch_normalization (BatchNo (None, 512)               2048      \n",
      "_________________________________________________________________\n",
      "dense (Dense)                (None, 32)                16416     \n",
      "_________________________________________________________________\n",
      "batch_normalization_1 (Batch (None, 32)                128       \n",
      "_________________________________________________________________\n",
      "activation (Activation)      (None, 32)                0         \n",
      "_________________________________________________________________\n",
      "dropout_1 (Dropout)          (None, 32)                0         \n",
      "_________________________________________________________________\n",
      "dense_1 (Dense)              (None, 32)                1056      \n",
      "_________________________________________________________________\n",
      "batch_normalization_2 (Batch (None, 32)                128       \n",
      "_________________________________________________________________\n",
      "activation_1 (Activation)    (None, 32)                0         \n",
      "_________________________________________________________________\n",
      "dropout_2 (Dropout)          (None, 32)                0         \n",
      "_________________________________________________________________\n",
      "dense_2 (Dense)              (None, 32)                1056      \n",
      "_________________________________________________________________\n",
      "batch_normalization_3 (Batch (None, 32)                128       \n",
      "_________________________________________________________________\n",
      "activation_2 (Activation)    (None, 32)                0         \n",
      "_________________________________________________________________\n",
      "dense_3 (Dense)              (None, 7)                 231       \n",
      "=================================================================\n",
      "Total params: 21,191\n",
      "Trainable params: 19,975\n",
      "Non-trainable params: 1,216\n",
      "_________________________________________________________________\n"
     ]
    }
   ],
   "source": [
    "custom_model.summary()"
   ]
  },
  {
   "cell_type": "code",
   "execution_count": 20,
   "metadata": {},
   "outputs": [],
   "source": [
    "from tensorflow.keras.utils import plot_model\n",
    "from IPython.display import Image\n",
    "# plot_model(model, to_file='convnet.png', show_shapes=True,show_layer_names=True)\n",
    "# Image(filename='convnet.png') "
   ]
  },
  {
   "cell_type": "code",
   "execution_count": 21,
   "metadata": {},
   "outputs": [],
   "source": [
    "def f1_score(y_true, y_pred): #taken from old keras source code\n",
    "    true_positives = K.sum(K.round(K.clip(y_true * y_pred, 0, 1)))\n",
    "    possible_positives = K.sum(K.round(K.clip(y_true, 0, 1)))\n",
    "    predicted_positives = K.sum(K.round(K.clip(y_pred, 0, 1)))\n",
    "    precision = true_positives / (predicted_positives + K.epsilon())\n",
    "    recall = true_positives / (possible_positives + K.epsilon())\n",
    "    f1_val = 2*(precision*recall)/(precision+recall+K.epsilon())\n",
    "    return f1_val"
   ]
  },
  {
   "cell_type": "code",
   "execution_count": 22,
   "metadata": {},
   "outputs": [],
   "source": [
    "METRICS = [\n",
    "      tf.keras.metrics.BinaryAccuracy(name='accuracy'),\n",
    "      tf.keras.metrics.Precision(name='precision'),\n",
    "      tf.keras.metrics.Recall(name='recall'),  \n",
    "      tf.keras.metrics.AUC(name='auc'),\n",
    "        f1_score,\n",
    "]"
   ]
  },
  {
   "cell_type": "code",
   "execution_count": 32,
   "metadata": {},
   "outputs": [],
   "source": [
    "lrd = ReduceLROnPlateau(monitor = 'val_loss',patience = 20,verbose = 1,factor = 0.50, min_lr = 1e-10)\n",
    "mcp = ModelCheckpoint('VGG16/model_vgg16.h5')\n",
    "es = EarlyStopping(verbose=1, patience=20)"
   ]
  },
  {
   "cell_type": "code",
   "execution_count": 24,
   "metadata": {},
   "outputs": [],
   "source": [
    "model.compile(optimizer='Adam', loss='categorical_crossentropy',metrics=METRICS)"
   ]
  },
  {
   "cell_type": "markdown",
   "metadata": {},
   "source": [
    "# Fit do modelo "
   ]
  },
  {
   "cell_type": "code",
   "execution_count": 25,
   "metadata": {},
   "outputs": [],
   "source": [
    "from keras.callbacks import CSVLogger"
   ]
  },
  {
   "cell_type": "code",
   "execution_count": 27,
   "metadata": {},
   "outputs": [
    {
     "name": "stdout",
     "output_type": "stream",
     "text": [
      "Epoch 1/60\n",
      "359/359 [==============================] - 418s 1s/step - loss: 1.9316 - accuracy: 0.8547 - precision: 0.2036 - recall: 0.0058 - auc: 0.5961 - f1_score: 0.0111 - val_loss: 1.8273 - val_accuracy: 0.8571 - val_precision: 0.0000e+00 - val_recall: 0.0000e+00 - val_auc: 0.6641 - val_f1_score: 0.0000e+00\n",
      "Epoch 2/60\n",
      "359/359 [==============================] - 410s 1s/step - loss: 1.8188 - accuracy: 0.8569 - precision: 0.3233 - recall: 0.0019 - auc: 0.6486 - f1_score: 0.0037 - val_loss: 1.7787 - val_accuracy: 0.8572 - val_precision: 1.0000 - val_recall: 3.4837e-04 - val_auc: 0.6792 - val_f1_score: 6.8376e-04\n",
      "Epoch 3/60\n",
      "359/359 [==============================] - 411s 1s/step - loss: 1.7955 - accuracy: 0.8568 - precision: 0.3590 - recall: 0.0030 - auc: 0.6638 - f1_score: 0.0060 - val_loss: 1.7629 - val_accuracy: 0.8573 - val_precision: 0.6923 - val_recall: 0.0016 - val_auc: 0.6851 - val_f1_score: 0.0031\n",
      "Epoch 4/60\n",
      "359/359 [==============================] - 411s 1s/step - loss: 1.7779 - accuracy: 0.8571 - precision: 0.4877 - recall: 0.0052 - auc: 0.6740 - f1_score: 0.0101 - val_loss: 1.7450 - val_accuracy: 0.8573 - val_precision: 0.6923 - val_recall: 0.0016 - val_auc: 0.6963 - val_f1_score: 0.0031\n",
      "Epoch 5/60\n",
      "359/359 [==============================] - 414s 1s/step - loss: 1.7689 - accuracy: 0.8571 - precision: 0.4810 - recall: 0.0066 - auc: 0.6799 - f1_score: 0.0129 - val_loss: 1.7444 - val_accuracy: 0.8573 - val_precision: 0.8571 - val_recall: 0.0010 - val_auc: 0.6962 - val_f1_score: 0.0021\n",
      "Epoch 6/60\n",
      "359/359 [==============================] - 452s 1s/step - loss: 1.7624 - accuracy: 0.8570 - precision: 0.4703 - recall: 0.0072 - auc: 0.6839 - f1_score: 0.0141 - val_loss: 1.7426 - val_accuracy: 0.8573 - val_precision: 0.8571 - val_recall: 0.0010 - val_auc: 0.6968 - val_f1_score: 0.0021\n",
      "Epoch 7/60\n",
      "359/359 [==============================] - 421s 1s/step - loss: 1.7560 - accuracy: 0.8573 - precision: 0.5343 - recall: 0.0095 - auc: 0.6860 - f1_score: 0.0185 - val_loss: 1.7341 - val_accuracy: 0.8572 - val_precision: 0.6667 - val_recall: 0.0010 - val_auc: 0.7021 - val_f1_score: 0.0021\n",
      "Epoch 8/60\n",
      "359/359 [==============================] - 424s 1s/step - loss: 1.7520 - accuracy: 0.8571 - precision: 0.4833 - recall: 0.0088 - auc: 0.6896 - f1_score: 0.0172 - val_loss: 1.7292 - val_accuracy: 0.8572 - val_precision: 1.0000 - val_recall: 5.2256e-04 - val_auc: 0.7051 - val_f1_score: 0.0010\n",
      "Epoch 9/60\n",
      "359/359 [==============================] - 426s 1s/step - loss: 1.7477 - accuracy: 0.8571 - precision: 0.5012 - recall: 0.0094 - auc: 0.6928 - f1_score: 0.0182 - val_loss: 1.7269 - val_accuracy: 0.8572 - val_precision: 0.8000 - val_recall: 6.9674e-04 - val_auc: 0.7055 - val_f1_score: 0.0014\n",
      "Epoch 10/60\n",
      "359/359 [==============================] - 420s 1s/step - loss: 1.7411 - accuracy: 0.8572 - precision: 0.5131 - recall: 0.0111 - auc: 0.6960 - f1_score: 0.0214 - val_loss: 1.7225 - val_accuracy: 0.8572 - val_precision: 0.6250 - val_recall: 8.7093e-04 - val_auc: 0.7086 - val_f1_score: 0.0017\n",
      "Epoch 11/60\n",
      "359/359 [==============================] - 427s 1s/step - loss: 1.7412 - accuracy: 0.8572 - precision: 0.5145 - recall: 0.0124 - auc: 0.6954 - f1_score: 0.0239 - val_loss: 1.7163 - val_accuracy: 0.8574 - val_precision: 0.9231 - val_recall: 0.0021 - val_auc: 0.7112 - val_f1_score: 0.0041\n",
      "Epoch 12/60\n",
      "359/359 [==============================] - 491s 1s/step - loss: 1.7390 - accuracy: 0.8571 - precision: 0.4961 - recall: 0.0111 - auc: 0.6972 - f1_score: 0.0215 - val_loss: 1.7177 - val_accuracy: 0.8572 - val_precision: 0.6000 - val_recall: 5.2256e-04 - val_auc: 0.7110 - val_f1_score: 0.0010\n",
      "Epoch 13/60\n",
      "359/359 [==============================] - 457s 1s/step - loss: 1.7355 - accuracy: 0.8573 - precision: 0.5160 - recall: 0.0127 - auc: 0.6994 - f1_score: 0.0245 - val_loss: 1.7153 - val_accuracy: 0.8574 - val_precision: 0.7391 - val_recall: 0.0030 - val_auc: 0.7117 - val_f1_score: 0.0058\n",
      "Epoch 14/60\n",
      "359/359 [==============================] - 431s 1s/step - loss: 1.7353 - accuracy: 0.8571 - precision: 0.5008 - recall: 0.0131 - auc: 0.6998 - f1_score: 0.0252 - val_loss: 1.7146 - val_accuracy: 0.8572 - val_precision: 0.6000 - val_recall: 0.0010 - val_auc: 0.7136 - val_f1_score: 0.0020\n",
      "Epoch 15/60\n",
      "359/359 [==============================] - 446s 1s/step - loss: 1.7334 - accuracy: 0.8574 - precision: 0.5387 - recall: 0.0145 - auc: 0.6996 - f1_score: 0.0280 - val_loss: 1.7140 - val_accuracy: 0.8572 - val_precision: 0.6667 - val_recall: 6.9674e-04 - val_auc: 0.7147 - val_f1_score: 0.0014\n",
      "Epoch 16/60\n",
      "359/359 [==============================] - 447s 1s/step - loss: 1.7324 - accuracy: 0.8574 - precision: 0.5323 - recall: 0.0129 - auc: 0.7006 - f1_score: 0.0250 - val_loss: 1.7117 - val_accuracy: 0.8572 - val_precision: 1.0000 - val_recall: 6.9674e-04 - val_auc: 0.7152 - val_f1_score: 0.0014\n",
      "Epoch 17/60\n",
      "359/359 [==============================] - 469s 1s/step - loss: 1.7290 - accuracy: 0.8573 - precision: 0.5158 - recall: 0.0142 - auc: 0.7030 - f1_score: 0.0275 - val_loss: 1.7031 - val_accuracy: 0.8572 - val_precision: 0.6250 - val_recall: 8.7093e-04 - val_auc: 0.7188 - val_f1_score: 0.0017\n",
      "Epoch 18/60\n",
      "359/359 [==============================] - 420s 1s/step - loss: 1.7277 - accuracy: 0.8574 - precision: 0.5312 - recall: 0.0152 - auc: 0.7035 - f1_score: 0.0293 - val_loss: 1.7160 - val_accuracy: 0.8575 - val_precision: 0.7586 - val_recall: 0.0038 - val_auc: 0.7123 - val_f1_score: 0.0075\n",
      "Epoch 19/60\n",
      "359/359 [==============================] - 424s 1s/step - loss: 1.7266 - accuracy: 0.8575 - precision: 0.5346 - recall: 0.0175 - auc: 0.7033 - f1_score: 0.0336 - val_loss: 1.7107 - val_accuracy: 0.8571 - val_precision: 0.3750 - val_recall: 5.2256e-04 - val_auc: 0.7173 - val_f1_score: 0.0010\n",
      "Epoch 20/60\n",
      "359/359 [==============================] - 664s 2s/step - loss: 1.7293 - accuracy: 0.8573 - precision: 0.5252 - recall: 0.0141 - auc: 0.7028 - f1_score: 0.0271 - val_loss: 1.7044 - val_accuracy: 0.8573 - val_precision: 0.7000 - val_recall: 0.0024 - val_auc: 0.7202 - val_f1_score: 0.0049\n",
      "Epoch 21/60\n",
      "359/359 [==============================] - 572s 2s/step - loss: 1.7272 - accuracy: 0.8573 - precision: 0.5178 - recall: 0.0139 - auc: 0.7043 - f1_score: 0.0269 - val_loss: 1.7049 - val_accuracy: 0.8573 - val_precision: 0.8571 - val_recall: 0.0010 - val_auc: 0.7189 - val_f1_score: 0.0021\n",
      "Epoch 22/60\n",
      "359/359 [==============================] - 393s 1s/step - loss: 1.7256 - accuracy: 0.8574 - precision: 0.5291 - recall: 0.0151 - auc: 0.7047 - f1_score: 0.0290 - val_loss: 1.7065 - val_accuracy: 0.8573 - val_precision: 0.7778 - val_recall: 0.0012 - val_auc: 0.7193 - val_f1_score: 0.0024\n",
      "Epoch 23/60\n",
      "359/359 [==============================] - 398s 1s/step - loss: 1.7207 - accuracy: 0.8580 - precision: 0.5825 - recall: 0.0200 - auc: 0.7069 - f1_score: 0.0383 - val_loss: 1.7047 - val_accuracy: 0.8571 - val_precision: 0.5000 - val_recall: 0.0012 - val_auc: 0.7196 - val_f1_score: 0.0024\n",
      "Epoch 24/60\n",
      "359/359 [==============================] - 395s 1s/step - loss: 1.7250 - accuracy: 0.8574 - precision: 0.5275 - recall: 0.0159 - auc: 0.7060 - f1_score: 0.0305 - val_loss: 1.7034 - val_accuracy: 0.8578 - val_precision: 0.7826 - val_recall: 0.0063 - val_auc: 0.7186 - val_f1_score: 0.0122\n",
      "Epoch 25/60\n",
      "359/359 [==============================] - 394s 1s/step - loss: 1.7248 - accuracy: 0.8575 - precision: 0.5381 - recall: 0.0154 - auc: 0.7056 - f1_score: 0.0296 - val_loss: 1.7027 - val_accuracy: 0.8571 - val_precision: 0.2500 - val_recall: 1.7419e-04 - val_auc: 0.7212 - val_f1_score: 3.4188e-04\n",
      "Epoch 26/60\n",
      "359/359 [==============================] - 394s 1s/step - loss: 1.7234 - accuracy: 0.8576 - precision: 0.5541 - recall: 0.0149 - auc: 0.7057 - f1_score: 0.0288 - val_loss: 1.7025 - val_accuracy: 0.8572 - val_precision: 0.6111 - val_recall: 0.0019 - val_auc: 0.7196 - val_f1_score: 0.0038\n",
      "Epoch 27/60\n",
      "359/359 [==============================] - 394s 1s/step - loss: 1.7220 - accuracy: 0.8576 - precision: 0.5539 - recall: 0.0163 - auc: 0.7071 - f1_score: 0.0315 - val_loss: 1.7030 - val_accuracy: 0.8572 - val_precision: 0.7000 - val_recall: 0.0012 - val_auc: 0.7192 - val_f1_score: 0.0024\n",
      "Epoch 28/60\n"
     ]
    },
    {
     "name": "stdout",
     "output_type": "stream",
     "text": [
      "359/359 [==============================] - 391s 1s/step - loss: 1.7177 - accuracy: 0.8576 - precision: 0.5569 - recall: 0.0160 - auc: 0.7094 - f1_score: 0.0308 - val_loss: 1.7049 - val_accuracy: 0.8572 - val_precision: 0.6000 - val_recall: 0.0010 - val_auc: 0.7189 - val_f1_score: 0.0020\n",
      "Epoch 29/60\n",
      "359/359 [==============================] - 391s 1s/step - loss: 1.7194 - accuracy: 0.8579 - precision: 0.5805 - recall: 0.0179 - auc: 0.7081 - f1_score: 0.0343 - val_loss: 1.7017 - val_accuracy: 0.8573 - val_precision: 0.7222 - val_recall: 0.0023 - val_auc: 0.7223 - val_f1_score: 0.0044\n",
      "Epoch 30/60\n",
      "359/359 [==============================] - 391s 1s/step - loss: 1.7219 - accuracy: 0.8575 - precision: 0.5408 - recall: 0.0179 - auc: 0.7070 - f1_score: 0.0343 - val_loss: 1.7000 - val_accuracy: 0.8573 - val_precision: 0.7222 - val_recall: 0.0023 - val_auc: 0.7210 - val_f1_score: 0.0046\n",
      "Epoch 31/60\n",
      "359/359 [==============================] - 391s 1s/step - loss: 1.7194 - accuracy: 0.8574 - precision: 0.5293 - recall: 0.0169 - auc: 0.7087 - f1_score: 0.0325 - val_loss: 1.7026 - val_accuracy: 0.8573 - val_precision: 0.8333 - val_recall: 0.0017 - val_auc: 0.7187 - val_f1_score: 0.0034\n",
      "Epoch 32/60\n",
      "359/359 [==============================] - 389s 1s/step - loss: 1.7207 - accuracy: 0.8576 - precision: 0.5552 - recall: 0.0162 - auc: 0.7078 - f1_score: 0.0311 - val_loss: 1.6995 - val_accuracy: 0.8573 - val_precision: 0.6875 - val_recall: 0.0019 - val_auc: 0.7221 - val_f1_score: 0.0038\n",
      "Epoch 33/60\n",
      "359/359 [==============================] - 389s 1s/step - loss: 1.7212 - accuracy: 0.8573 - precision: 0.5190 - recall: 0.0149 - auc: 0.7085 - f1_score: 0.0287 - val_loss: 1.6979 - val_accuracy: 0.8572 - val_precision: 0.6364 - val_recall: 0.0012 - val_auc: 0.7231 - val_f1_score: 0.0024\n",
      "Epoch 34/60\n",
      "359/359 [==============================] - 389s 1s/step - loss: 1.7191 - accuracy: 0.8576 - precision: 0.5573 - recall: 0.0157 - auc: 0.7095 - f1_score: 0.0302 - val_loss: 1.6959 - val_accuracy: 0.8571 - val_precision: 0.4211 - val_recall: 0.0014 - val_auc: 0.7231 - val_f1_score: 0.0027\n",
      "Epoch 35/60\n",
      "359/359 [==============================] - 390s 1s/step - loss: 1.7180 - accuracy: 0.8577 - precision: 0.5558 - recall: 0.0206 - auc: 0.7097 - f1_score: 0.0393 - val_loss: 1.6983 - val_accuracy: 0.8575 - val_precision: 0.7059 - val_recall: 0.0042 - val_auc: 0.7221 - val_f1_score: 0.0082\n",
      "Epoch 36/60\n",
      "359/359 [==============================] - 389s 1s/step - loss: 1.7190 - accuracy: 0.8575 - precision: 0.5365 - recall: 0.0160 - auc: 0.7085 - f1_score: 0.0308 - val_loss: 1.7032 - val_accuracy: 0.8573 - val_precision: 0.6923 - val_recall: 0.0016 - val_auc: 0.7209 - val_f1_score: 0.0031\n",
      "Epoch 37/60\n",
      "359/359 [==============================] - 390s 1s/step - loss: 1.7188 - accuracy: 0.8575 - precision: 0.5344 - recall: 0.0169 - auc: 0.7090 - f1_score: 0.0325 - val_loss: 1.7002 - val_accuracy: 0.8572 - val_precision: 0.5833 - val_recall: 0.0012 - val_auc: 0.7219 - val_f1_score: 0.0024\n",
      "Epoch 38/60\n",
      "359/359 [==============================] - 390s 1s/step - loss: 1.7151 - accuracy: 0.8576 - precision: 0.5459 - recall: 0.0186 - auc: 0.7105 - f1_score: 0.0357 - val_loss: 1.6902 - val_accuracy: 0.8573 - val_precision: 0.7273 - val_recall: 0.0014 - val_auc: 0.7289 - val_f1_score: 0.0027\n",
      "Epoch 39/60\n",
      "359/359 [==============================] - 389s 1s/step - loss: 1.7180 - accuracy: 0.8574 - precision: 0.5244 - recall: 0.0168 - auc: 0.7094 - f1_score: 0.0324 - val_loss: 1.6939 - val_accuracy: 0.8572 - val_precision: 0.7500 - val_recall: 0.0010 - val_auc: 0.7268 - val_f1_score: 0.0021\n",
      "Epoch 40/60\n",
      "359/359 [==============================] - 389s 1s/step - loss: 1.7156 - accuracy: 0.8578 - precision: 0.5616 - recall: 0.0195 - auc: 0.7100 - f1_score: 0.0373 - val_loss: 1.6981 - val_accuracy: 0.8571 - val_precision: 0.4000 - val_recall: 3.4837e-04 - val_auc: 0.7230 - val_f1_score: 6.8376e-04\n",
      "Epoch 41/60\n",
      "359/359 [==============================] - 390s 1s/step - loss: 1.7185 - accuracy: 0.8575 - precision: 0.5435 - recall: 0.0147 - auc: 0.7086 - f1_score: 0.0283 - val_loss: 1.6944 - val_accuracy: 0.8574 - val_precision: 0.7273 - val_recall: 0.0028 - val_auc: 0.7245 - val_f1_score: 0.0054\n",
      "Epoch 42/60\n",
      "359/359 [==============================] - 389s 1s/step - loss: 1.7176 - accuracy: 0.8575 - precision: 0.5412 - recall: 0.0177 - auc: 0.7096 - f1_score: 0.0340 - val_loss: 1.6971 - val_accuracy: 0.8572 - val_precision: 0.5714 - val_recall: 6.9674e-04 - val_auc: 0.7233 - val_f1_score: 0.0014\n",
      "Epoch 43/60\n",
      "359/359 [==============================] - 390s 1s/step - loss: 1.7146 - accuracy: 0.8577 - precision: 0.5602 - recall: 0.0170 - auc: 0.7117 - f1_score: 0.0328 - val_loss: 1.7006 - val_accuracy: 0.8572 - val_precision: 0.8333 - val_recall: 8.7093e-04 - val_auc: 0.7220 - val_f1_score: 0.0017\n",
      "Epoch 44/60\n",
      "359/359 [==============================] - 390s 1s/step - loss: 1.7191 - accuracy: 0.8576 - precision: 0.5483 - recall: 0.0165 - auc: 0.7087 - f1_score: 0.0319 - val_loss: 1.6948 - val_accuracy: 0.8572 - val_precision: 0.6667 - val_recall: 6.9674e-04 - val_auc: 0.7253 - val_f1_score: 0.0014\n",
      "Epoch 45/60\n",
      "359/359 [==============================] - 389s 1s/step - loss: 1.7157 - accuracy: 0.8574 - precision: 0.5269 - recall: 0.0179 - auc: 0.7103 - f1_score: 0.0344 - val_loss: 1.6971 - val_accuracy: 0.8572 - val_precision: 0.5769 - val_recall: 0.0026 - val_auc: 0.7231 - val_f1_score: 0.0051\n",
      "Epoch 46/60\n",
      "359/359 [==============================] - 389s 1s/step - loss: 1.7176 - accuracy: 0.8576 - precision: 0.5483 - recall: 0.0195 - auc: 0.7094 - f1_score: 0.0374 - val_loss: 1.6953 - val_accuracy: 0.8574 - val_precision: 0.9286 - val_recall: 0.0023 - val_auc: 0.7256 - val_f1_score: 0.0044\n",
      "Epoch 47/60\n",
      "359/359 [==============================] - 390s 1s/step - loss: 1.7178 - accuracy: 0.8577 - precision: 0.5571 - recall: 0.0176 - auc: 0.7095 - f1_score: 0.0339 - val_loss: 1.6961 - val_accuracy: 0.8572 - val_precision: 0.6429 - val_recall: 0.0016 - val_auc: 0.7238 - val_f1_score: 0.0031\n",
      "Epoch 48/60\n",
      "359/359 [==============================] - 390s 1s/step - loss: 1.7191 - accuracy: 0.8575 - precision: 0.5426 - recall: 0.0155 - auc: 0.7088 - f1_score: 0.0300 - val_loss: 1.6954 - val_accuracy: 0.8573 - val_precision: 0.6667 - val_recall: 0.0024 - val_auc: 0.7256 - val_f1_score: 0.0048\n",
      "Epoch 49/60\n",
      "359/359 [==============================] - 389s 1s/step - loss: 1.7156 - accuracy: 0.8578 - precision: 0.5677 - recall: 0.0201 - auc: 0.7107 - f1_score: 0.0384 - val_loss: 1.6971 - val_accuracy: 0.8572 - val_precision: 0.5405 - val_recall: 0.0035 - val_auc: 0.7221 - val_f1_score: 0.0068\n",
      "Epoch 50/60\n",
      "359/359 [==============================] - 390s 1s/step - loss: 1.7160 - accuracy: 0.8577 - precision: 0.5577 - recall: 0.0189 - auc: 0.7097 - f1_score: 0.0363 - val_loss: 1.6972 - val_accuracy: 0.8574 - val_precision: 0.8571 - val_recall: 0.0021 - val_auc: 0.7247 - val_f1_score: 0.0041\n",
      "Epoch 51/60\n",
      "359/359 [==============================] - 389s 1s/step - loss: 1.7168 - accuracy: 0.8578 - precision: 0.5643 - recall: 0.0206 - auc: 0.7100 - f1_score: 0.0395 - val_loss: 1.6932 - val_accuracy: 0.8573 - val_precision: 0.6667 - val_recall: 0.0028 - val_auc: 0.7244 - val_f1_score: 0.0055\n",
      "Epoch 52/60\n",
      "359/359 [==============================] - 389s 1s/step - loss: 1.7189 - accuracy: 0.8575 - precision: 0.5449 - recall: 0.0164 - auc: 0.7083 - f1_score: 0.0315 - val_loss: 1.7007 - val_accuracy: 0.8572 - val_precision: 0.6154 - val_recall: 0.0014 - val_auc: 0.7224 - val_f1_score: 0.0027\n",
      "Epoch 53/60\n",
      "359/359 [==============================] - 390s 1s/step - loss: 1.7162 - accuracy: 0.8575 - precision: 0.5433 - recall: 0.0161 - auc: 0.7104 - f1_score: 0.0310 - val_loss: 1.6979 - val_accuracy: 0.8572 - val_precision: 0.7143 - val_recall: 8.7093e-04 - val_auc: 0.7230 - val_f1_score: 0.0017\n",
      "Epoch 54/60\n",
      "359/359 [==============================] - 389s 1s/step - loss: 1.7173 - accuracy: 0.8574 - precision: 0.5265 - recall: 0.0169 - auc: 0.7095 - f1_score: 0.0325 - val_loss: 1.6952 - val_accuracy: 0.8571 - val_precision: 0.5000 - val_recall: 5.2256e-04 - val_auc: 0.7243 - val_f1_score: 0.0010\n",
      "Epoch 55/60\n"
     ]
    },
    {
     "name": "stdout",
     "output_type": "stream",
     "text": [
      "359/359 [==============================] - 389s 1s/step - loss: 1.7190 - accuracy: 0.8579 - precision: 0.5909 - recall: 0.0181 - auc: 0.7092 - f1_score: 0.0349 - val_loss: 1.6944 - val_accuracy: 0.8573 - val_precision: 0.7500 - val_recall: 0.0021 - val_auc: 0.7260 - val_f1_score: 0.0041\n",
      "Epoch 56/60\n",
      "359/359 [==============================] - 389s 1s/step - loss: 1.7153 - accuracy: 0.8574 - precision: 0.5334 - recall: 0.0163 - auc: 0.7101 - f1_score: 0.0314 - val_loss: 1.6934 - val_accuracy: 0.8574 - val_precision: 0.7778 - val_recall: 0.0024 - val_auc: 0.7254 - val_f1_score: 0.0048\n",
      "Epoch 57/60\n",
      "359/359 [==============================] - 390s 1s/step - loss: 1.7177 - accuracy: 0.8575 - precision: 0.5392 - recall: 0.0171 - auc: 0.7099 - f1_score: 0.0328 - val_loss: 1.7004 - val_accuracy: 0.8571 - val_precision: 0.5000 - val_recall: 1.7419e-04 - val_auc: 0.7220 - val_f1_score: 3.4188e-04\n",
      "Epoch 58/60\n",
      "359/359 [==============================] - 390s 1s/step - loss: 1.7142 - accuracy: 0.8576 - precision: 0.5504 - recall: 0.0188 - auc: 0.7111 - f1_score: 0.0360 - val_loss: 1.7012 - val_accuracy: 0.8573 - val_precision: 0.7273 - val_recall: 0.0014 - val_auc: 0.7215 - val_f1_score: 0.0027\n",
      "\n",
      "Epoch 00058: ReduceLROnPlateau reducing learning rate to 0.0005000000237487257.\n",
      "Epoch 00058: early stopping\n"
     ]
    }
   ],
   "source": [
    "epochs = 60\n",
    "batch_size = 64\n",
    "history=model.fit(train_dataset,validation_data=valid_dataset,epochs = epochs,verbose = 1,callbacks=[lrd,mcp,es])"
   ]
  },
  {
   "cell_type": "markdown",
   "metadata": {},
   "source": [
    "## Salvando o history em json"
   ]
  },
  {
   "cell_type": "code",
   "execution_count": 28,
   "metadata": {},
   "outputs": [],
   "source": [
    "hist_df = pd.DataFrame(history.history) \n",
    "\n",
    "# save to json:  \n",
    "hist_json_file = 'VGG16/history.json' \n",
    "with open(hist_json_file, mode='w') as f:\n",
    "    hist_df.to_json(f)\n",
    "    "
   ]
  },
  {
   "cell_type": "markdown",
   "metadata": {},
   "source": [
    "## Salvando o modelo"
   ]
  },
  {
   "cell_type": "code",
   "execution_count": 29,
   "metadata": {},
   "outputs": [
    {
     "name": "stdout",
     "output_type": "stream",
     "text": [
      "WARNING:tensorflow:Compiled the loaded model, but the compiled metrics have yet to be built. `model.compile_metrics` will be empty until you train or evaluate the model.\n",
      "INFO:tensorflow:Assets written to: VGG16/custom_model/assets\n"
     ]
    }
   ],
   "source": [
    "custom_model.save(\"VGG16/custom_model\")"
   ]
  },
  {
   "cell_type": "code",
   "execution_count": 30,
   "metadata": {},
   "outputs": [
    {
     "data": {
      "image/png": "[encoded data removed]",
      "text/plain": [
       "<Figure size 1200x400 with 2 Axes>"
      ]
     },
     "metadata": {},
     "output_type": "display_data"
    }
   ],
   "source": [
    "fig , ax = plt.subplots(1,2)\n",
    "train_acc = history.history['accuracy']\n",
    "train_loss = history.history['loss']\n",
    "train_l = history.history['val_accuracy']\n",
    "fig.set_size_inches(12,4)\n",
    "\n",
    "ax[0].plot(history.history['accuracy'])\n",
    "ax[0].plot(history.history['val_accuracy'])\n",
    "ax[0].set_title('Training Accuracy vs Validation Accuracy')\n",
    "ax[0].set_ylabel('Accuracy')\n",
    "ax[0].set_xlabel('Epoch')\n",
    "ax[0].legend(['Train', 'Validation'], loc='upper left')\n",
    "\n",
    "ax[1].plot(history.history['loss'])\n",
    "ax[1].plot(history.history['val_loss'])\n",
    "ax[1].set_title('Training Loss vs Validation Loss')\n",
    "ax[1].set_ylabel('Loss')\n",
    "ax[1].set_xlabel('Epoch')\n",
    "ax[1].legend(['Train', 'Validation'], loc='upper left')\n",
    "\n",
    "plt.show()"
   ]
  },
  {
   "cell_type": "markdown",
   "metadata": {},
   "source": [
    "## Evaluate "
   ]
  },
  {
   "cell_type": "code",
   "execution_count": 31,
   "metadata": {},
   "outputs": [
    {
     "name": "stdout",
     "output_type": "stream",
     "text": [
      "113/113 [==============================] - 96s 849ms/step - loss: 1.6706 - accuracy: 0.8575 - precision: 0.6349 - recall: 0.0056 - auc: 0.7361 - f1_score: 0.0108\n"
     ]
    }
   ],
   "source": [
    "results = model.evaluate(test_dataset, batch_size=64)"
   ]
  },
  {
   "cell_type": "code",
   "execution_count": null,
   "metadata": {},
   "outputs": [],
   "source": []
  },
  {
   "cell_type": "code",
   "execution_count": null,
   "metadata": {},
   "outputs": [],
   "source": []
  }
 ],
 "metadata": {
  "kernelspec": {
   "display_name": "Python 3",
   "language": "python",
   "name": "python3"
  },
  "language_info": {
   "codemirror_mode": {
    "name": "ipython",
    "version": 3
   },
   "file_extension": ".py",
   "mimetype": "text/x-python",
   "name": "python",
   "nbconvert_exporter": "python",
   "pygments_lexer": "ipython3",
   "version": "3.9.5"
  }
 },
 "nbformat": 4,
 "nbformat_minor": 4
}
