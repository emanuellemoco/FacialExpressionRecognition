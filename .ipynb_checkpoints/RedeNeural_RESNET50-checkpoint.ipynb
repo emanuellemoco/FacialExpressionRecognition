{
 "cells": [
  {
   "cell_type": "markdown",
   "metadata": {},
   "source": [
    "# Imports"
   ]
  },
  {
   "cell_type": "code",
   "execution_count": 1,
   "metadata": {},
   "outputs": [],
   "source": [
    "import tensorflow.python.keras.backend as K"
   ]
  },
  {
   "cell_type": "code",
   "execution_count": 2,
   "metadata": {},
   "outputs": [],
   "source": [
    "%matplotlib inline\n",
    "\n",
    "import matplotlib as mpl\n",
    "import matplotlib.pyplot as plt\n",
    "import numpy as np\n",
    "import pandas as pd\n",
    "import sklearn\n",
    "\n",
    "mpl.rc(\"axes\", labelsize=14)\n",
    "mpl.rc(\"xtick\", labelsize=12)\n",
    "mpl.rc(\"ytick\", labelsize=12)\n",
    "import tensorflow as tf\n",
    "from tensorflow import keras\n",
    "from keras.preprocessing.image import ImageDataGenerator"
   ]
  },
  {
   "cell_type": "code",
   "execution_count": 3,
   "metadata": {},
   "outputs": [],
   "source": [
    "import skimage.io\n",
    "import tensorflow as tf\n",
    "from tensorflow.keras.preprocessing.image import ImageDataGenerator\n",
    "from tensorflow.keras.applications import EfficientNetB0\n",
    "from tensorflow.keras.layers import Dense, Flatten, Dropout,BatchNormalization ,Activation\n",
    "from tensorflow.keras.models import Model, Sequential\n",
    "from keras.applications.nasnet import NASNetLarge\n",
    "from tensorflow.keras.callbacks import ReduceLROnPlateau, ModelCheckpoint, EarlyStopping\n",
    "from tensorflow.keras.optimizers import Adam"
   ]
  },
  {
   "cell_type": "markdown",
   "metadata": {},
   "source": [
    "# Construção Modelo"
   ]
  },
  {
   "cell_type": "code",
   "execution_count": 4,
   "metadata": {},
   "outputs": [],
   "source": [
    "from tensorflow.python.keras.models import Sequential\n",
    "from keras.layers import Conv2D, MaxPool2D, Flatten,Dense,Dropout,BatchNormalization\n",
    "from tensorflow.keras.preprocessing.image import ImageDataGenerator\n",
    "from tensorflow.keras.applications import VGG16, InceptionResNetV2\n",
    "from tensorflow.python.keras import regularizers\n",
    "from tensorflow.keras.optimizers import Adam,RMSprop,SGD,Adamax\n",
    "from tensorflow.keras.layers import Dense, Flatten, Dropout,BatchNormalization ,Activation\n",
    "import cv2"
   ]
  },
  {
   "cell_type": "code",
   "execution_count": 5,
   "metadata": {},
   "outputs": [],
   "source": [
    "IMAGE_HEIGHT, IMAGE_WIDTH, NUM_CHANNELS, NUM_CLASSES = 48, 48, 1, 7"
   ]
  },
  {
   "cell_type": "code",
   "execution_count": 6,
   "metadata": {},
   "outputs": [],
   "source": [
    "base_model = tf.keras.applications.EfficientNetB0(input_shape=(48,48,3),include_top=False,weights=\"imagenet\")"
   ]
  },
  {
   "cell_type": "code",
   "execution_count": 7,
   "metadata": {},
   "outputs": [],
   "source": [
    "# Freezing Layers\n",
    "for layer in base_model.layers:\n",
    "    layer.trainable=False"
   ]
  },
  {
   "cell_type": "code",
   "execution_count": 8,
   "metadata": {},
   "outputs": [],
   "source": [
    "custom_model = Sequential()\n",
    "\n",
    "custom_model.add(Dropout(0.5))\n",
    "custom_model.add(Flatten())\n",
    "custom_model.add(BatchNormalization())\n",
    "custom_model.add(Dense(32,kernel_initializer='he_uniform'))\n",
    "custom_model.add(BatchNormalization())\n",
    "custom_model.add(Activation('relu'))\n",
    "custom_model.add(Dropout(0.5))\n",
    "custom_model.add(Dense(32,kernel_initializer='he_uniform'))\n",
    "custom_model.add(BatchNormalization())\n",
    "custom_model.add(Activation('relu'))\n",
    "custom_model.add(Dropout(0.5))\n",
    "custom_model.add(Dense(32,kernel_initializer='he_uniform'))\n",
    "custom_model.add(BatchNormalization())\n",
    "custom_model.add(Activation('relu'))\n",
    "custom_model.add(Dense(7,activation='softmax'))"
   ]
  },
  {
   "cell_type": "code",
   "execution_count": 9,
   "metadata": {},
   "outputs": [],
   "source": [
    "# Building Model\n",
    "model = Sequential()\n",
    "model.add(base_model)\n",
    "model.add(custom_model)"
   ]
  },
  {
   "cell_type": "code",
   "execution_count": 10,
   "metadata": {},
   "outputs": [
    {
     "name": "stdout",
     "output_type": "stream",
     "text": [
      "Model: \"sequential_1\"\n",
      "_________________________________________________________________\n",
      "Layer (type)                 Output Shape              Param #   \n",
      "=================================================================\n",
      "efficientnetb0 (Functional)  (None, 2, 2, 1280)        4049571   \n",
      "_________________________________________________________________\n",
      "sequential (Sequential)      (None, 7)                 187079    \n",
      "=================================================================\n",
      "Total params: 4,236,650\n",
      "Trainable params: 176,647\n",
      "Non-trainable params: 4,060,003\n",
      "_________________________________________________________________\n"
     ]
    }
   ],
   "source": [
    "model.summary()"
   ]
  },
  {
   "cell_type": "code",
   "execution_count": 11,
   "metadata": {},
   "outputs": [
    {
     "name": "stdout",
     "output_type": "stream",
     "text": [
      "Model: \"sequential\"\n",
      "_________________________________________________________________\n",
      "Layer (type)                 Output Shape              Param #   \n",
      "=================================================================\n",
      "dropout (Dropout)            (None, 2, 2, 1280)        0         \n",
      "_________________________________________________________________\n",
      "flatten (Flatten)            (None, 5120)              0         \n",
      "_________________________________________________________________\n",
      "batch_normalization (BatchNo (None, 5120)              20480     \n",
      "_________________________________________________________________\n",
      "dense (Dense)                (None, 32)                163872    \n",
      "_________________________________________________________________\n",
      "batch_normalization_1 (Batch (None, 32)                128       \n",
      "_________________________________________________________________\n",
      "activation (Activation)      (None, 32)                0         \n",
      "_________________________________________________________________\n",
      "dropout_1 (Dropout)          (None, 32)                0         \n",
      "_________________________________________________________________\n",
      "dense_1 (Dense)              (None, 32)                1056      \n",
      "_________________________________________________________________\n",
      "batch_normalization_2 (Batch (None, 32)                128       \n",
      "_________________________________________________________________\n",
      "activation_1 (Activation)    (None, 32)                0         \n",
      "_________________________________________________________________\n",
      "dropout_2 (Dropout)          (None, 32)                0         \n",
      "_________________________________________________________________\n",
      "dense_2 (Dense)              (None, 32)                1056      \n",
      "_________________________________________________________________\n",
      "batch_normalization_3 (Batch (None, 32)                128       \n",
      "_________________________________________________________________\n",
      "activation_2 (Activation)    (None, 32)                0         \n",
      "_________________________________________________________________\n",
      "dense_3 (Dense)              (None, 7)                 231       \n",
      "=================================================================\n",
      "Total params: 187,079\n",
      "Trainable params: 176,647\n",
      "Non-trainable params: 10,432\n",
      "_________________________________________________________________\n"
     ]
    }
   ],
   "source": [
    "custom_model.summary()"
   ]
  },
  {
   "cell_type": "code",
   "execution_count": 12,
   "metadata": {},
   "outputs": [],
   "source": [
    "def f1_score(y_true, y_pred): #taken from old keras source code\n",
    "    true_positives = K.sum(K.round(K.clip(y_true * y_pred, 0, 1)))\n",
    "    possible_positives = K.sum(K.round(K.clip(y_true, 0, 1)))\n",
    "    predicted_positives = K.sum(K.round(K.clip(y_pred, 0, 1)))\n",
    "    precision = true_positives / (predicted_positives + K.epsilon())\n",
    "    recall = true_positives / (possible_positives + K.epsilon())\n",
    "    f1_val = 2*(precision*recall)/(precision+recall+K.epsilon())\n",
    "    return f1_val"
   ]
  },
  {
   "cell_type": "code",
   "execution_count": 13,
   "metadata": {},
   "outputs": [],
   "source": [
    "METRICS = [\n",
    "      tf.keras.metrics.BinaryAccuracy(name='accuracy'),\n",
    "      tf.keras.metrics.Precision(name='precision'),\n",
    "      tf.keras.metrics.Recall(name='recall'),  \n",
    "      tf.keras.metrics.AUC(name='auc'),\n",
    "        f1_score,\n",
    "]"
   ]
  },
  {
   "cell_type": "code",
   "execution_count": 14,
   "metadata": {},
   "outputs": [],
   "source": [
    "lrd = ReduceLROnPlateau(monitor = 'val_loss',patience = 20,verbose = 1,factor = 0.50, min_lr = 1e-10)\n",
    "mcp = ModelCheckpoint('RESNET50/model.h5')\n",
    "es = EarlyStopping(verbose=1, patience=20)"
   ]
  },
  {
   "cell_type": "code",
   "execution_count": 15,
   "metadata": {},
   "outputs": [],
   "source": [
    "model.compile(optimizer='Adam', loss='categorical_crossentropy',metrics=METRICS)"
   ]
  },
  {
   "cell_type": "markdown",
   "metadata": {},
   "source": [
    "# Treinamento e teste "
   ]
  },
  {
   "cell_type": "code",
   "execution_count": 16,
   "metadata": {},
   "outputs": [],
   "source": [
    "train_datagen = ImageDataGenerator(rescale = 1./255,\n",
    "                                   validation_split = 0.2,                       \n",
    "        rotation_range=5,\n",
    "        width_shift_range=0.2,\n",
    "        height_shift_range=0.2,\n",
    "        shear_range=0.2,\n",
    "        #zoom_range=0.2,\n",
    "        horizontal_flip=True,\n",
    "        vertical_flip=True,\n",
    "        fill_mode='nearest')\n",
    "\n",
    "test_datagen  = ImageDataGenerator(rescale = 1./255\n",
    "                                  )"
   ]
  },
  {
   "cell_type": "code",
   "execution_count": 17,
   "metadata": {},
   "outputs": [
    {
     "name": "stdout",
     "output_type": "stream",
     "text": [
      "Found 22968 images belonging to 7 classes.\n"
     ]
    }
   ],
   "source": [
    "train_dataset  = train_datagen.flow_from_directory(directory = 'train',\n",
    "                                                   target_size = (48,48),\n",
    "                                                   color_mode = \"rgb\",\n",
    "                                                   class_mode = 'categorical',\n",
    "                                                   subset = 'training',\n",
    "                                                   batch_size = 64,\n",
    "                                                   shuffle=True)"
   ]
  },
  {
   "cell_type": "code",
   "execution_count": 18,
   "metadata": {},
   "outputs": [],
   "source": [
    "teste_y = train_dataset.classes"
   ]
  },
  {
   "cell_type": "code",
   "execution_count": 19,
   "metadata": {},
   "outputs": [
    {
     "name": "stdout",
     "output_type": "stream",
     "text": [
      "Found 5741 images belonging to 7 classes.\n"
     ]
    }
   ],
   "source": [
    "valid_dataset = train_datagen.flow_from_directory(directory = 'train',\n",
    "                                                  target_size = (48,48),\n",
    "                                                  color_mode = \"rgb\",\n",
    "                                                  class_mode = 'categorical',\n",
    "                                                  subset = 'validation',\n",
    "                                                  batch_size = 64,\n",
    "                                                  shuffle=True)"
   ]
  },
  {
   "cell_type": "code",
   "execution_count": 20,
   "metadata": {},
   "outputs": [
    {
     "name": "stdout",
     "output_type": "stream",
     "text": [
      "Found 7178 images belonging to 7 classes.\n"
     ]
    }
   ],
   "source": [
    "test_dataset = test_datagen.flow_from_directory(directory = 'test',\n",
    "                                                  target_size = (48,48),\n",
    "                                                  color_mode = \"rgb\",\n",
    "                                                  class_mode = 'categorical',\n",
    "                                                  batch_size = 64,\n",
    "                                                  shuffle=True)"
   ]
  },
  {
   "cell_type": "markdown",
   "metadata": {},
   "source": [
    "# Fit do modelo "
   ]
  },
  {
   "cell_type": "code",
   "execution_count": 21,
   "metadata": {},
   "outputs": [],
   "source": [
    "from keras.callbacks import CSVLogger"
   ]
  },
  {
   "cell_type": "code",
   "execution_count": 22,
   "metadata": {},
   "outputs": [
    {
     "name": "stdout",
     "output_type": "stream",
     "text": [
      "Epoch 1/60\n",
      "359/359 [==============================] - 818s 2s/step - loss: 1.9594 - accuracy: 0.8550 - precision: 0.1812 - recall: 0.0044 - auc: 0.5858 - f1_score: 0.0082 - val_loss: 1.8350 - val_accuracy: 0.8571 - val_precision: 0.0000e+00 - val_recall: 0.0000e+00 - val_auc: 0.6394 - val_f1_score: 0.0000e+00\n",
      "Epoch 2/60\n",
      "359/359 [==============================] - 92s 256ms/step - loss: 1.8413 - accuracy: 0.8570 - precision: 0.3095 - recall: 5.6600e-04 - auc: 0.6288 - f1_score: 0.0011 - val_loss: 1.8173 - val_accuracy: 0.8571 - val_precision: 0.0000e+00 - val_recall: 0.0000e+00 - val_auc: 0.6437 - val_f1_score: 0.0000e+00\n",
      "Epoch 3/60\n",
      "359/359 [==============================] - 92s 257ms/step - loss: 1.8309 - accuracy: 0.8571 - precision: 0.5000 - recall: 1.7416e-04 - auc: 0.6328 - f1_score: 3.4283e-04 - val_loss: 1.8131 - val_accuracy: 0.8571 - val_precision: 0.0000e+00 - val_recall: 0.0000e+00 - val_auc: 0.6437 - val_f1_score: 0.0000e+00\n",
      "Epoch 4/60\n",
      "359/359 [==============================] - 92s 257ms/step - loss: 1.8232 - accuracy: 0.8572 - precision: 1.0000 - recall: 8.7078e-05 - auc: 0.6381 - f1_score: 1.7142e-04 - val_loss: 1.8117 - val_accuracy: 0.8571 - val_precision: 0.0000e+00 - val_recall: 0.0000e+00 - val_auc: 0.6438 - val_f1_score: 0.0000e+00\n",
      "Epoch 5/60\n",
      "359/359 [==============================] - 93s 259ms/step - loss: 1.8213 - accuracy: 0.8571 - precision: 0.0000e+00 - recall: 0.0000e+00 - auc: 0.6375 - f1_score: 0.0000e+00 - val_loss: 1.8110 - val_accuracy: 0.8571 - val_precision: 0.0000e+00 - val_recall: 0.0000e+00 - val_auc: 0.6435 - val_f1_score: 0.0000e+00\n",
      "Epoch 6/60\n",
      "359/359 [==============================] - 92s 257ms/step - loss: 1.8177 - accuracy: 0.8571 - precision: 0.0000e+00 - recall: 0.0000e+00 - auc: 0.6393 - f1_score: 0.0000e+00 - val_loss: 1.8114 - val_accuracy: 0.8571 - val_precision: 0.0000e+00 - val_recall: 0.0000e+00 - val_auc: 0.6435 - val_f1_score: 0.0000e+00\n",
      "Epoch 7/60\n",
      "359/359 [==============================] - 92s 257ms/step - loss: 1.8184 - accuracy: 0.8571 - precision: 0.0000e+00 - recall: 0.0000e+00 - auc: 0.6390 - f1_score: 0.0000e+00 - val_loss: 1.8103 - val_accuracy: 0.8571 - val_precision: 0.0000e+00 - val_recall: 0.0000e+00 - val_auc: 0.6440 - val_f1_score: 0.0000e+00\n",
      "Epoch 8/60\n",
      "359/359 [==============================] - 92s 257ms/step - loss: 1.8164 - accuracy: 0.8571 - precision: 0.0000e+00 - recall: 0.0000e+00 - auc: 0.6404 - f1_score: 0.0000e+00 - val_loss: 1.8099 - val_accuracy: 0.8571 - val_precision: 0.0000e+00 - val_recall: 0.0000e+00 - val_auc: 0.6436 - val_f1_score: 0.0000e+00\n",
      "Epoch 9/60\n",
      "359/359 [==============================] - 92s 257ms/step - loss: 1.8147 - accuracy: 0.8571 - precision: 0.0000e+00 - recall: 0.0000e+00 - auc: 0.6412 - f1_score: 0.0000e+00 - val_loss: 1.8098 - val_accuracy: 0.8571 - val_precision: 0.0000e+00 - val_recall: 0.0000e+00 - val_auc: 0.6432 - val_f1_score: 0.0000e+00\n",
      "Epoch 10/60\n",
      "359/359 [==============================] - 92s 256ms/step - loss: 1.8150 - accuracy: 0.8571 - precision: 0.0000e+00 - recall: 0.0000e+00 - auc: 0.6408 - f1_score: 0.0000e+00 - val_loss: 1.8100 - val_accuracy: 0.8571 - val_precision: 0.0000e+00 - val_recall: 0.0000e+00 - val_auc: 0.6438 - val_f1_score: 0.0000e+00\n",
      "Epoch 11/60\n",
      "359/359 [==============================] - 92s 257ms/step - loss: 1.8137 - accuracy: 0.8571 - precision: 0.0000e+00 - recall: 0.0000e+00 - auc: 0.6421 - f1_score: 0.0000e+00 - val_loss: 1.8099 - val_accuracy: 0.8571 - val_precision: 0.0000e+00 - val_recall: 0.0000e+00 - val_auc: 0.6438 - val_f1_score: 0.0000e+00\n",
      "Epoch 12/60\n",
      "359/359 [==============================] - 92s 257ms/step - loss: 1.8142 - accuracy: 0.8571 - precision: 0.0000e+00 - recall: 0.0000e+00 - auc: 0.6408 - f1_score: 0.0000e+00 - val_loss: 1.8098 - val_accuracy: 0.8571 - val_precision: 0.0000e+00 - val_recall: 0.0000e+00 - val_auc: 0.6435 - val_f1_score: 0.0000e+00\n",
      "Epoch 13/60\n",
      "359/359 [==============================] - 234s 653ms/step - loss: 1.8132 - accuracy: 0.8571 - precision: 0.0000e+00 - recall: 0.0000e+00 - auc: 0.6417 - f1_score: 0.0000e+00 - val_loss: 1.8098 - val_accuracy: 0.8571 - val_precision: 0.0000e+00 - val_recall: 0.0000e+00 - val_auc: 0.6438 - val_f1_score: 0.0000e+00\n",
      "Epoch 14/60\n",
      "359/359 [==============================] - 442s 1s/step - loss: 1.8134 - accuracy: 0.8571 - precision: 0.0000e+00 - recall: 0.0000e+00 - auc: 0.6422 - f1_score: 0.0000e+00 - val_loss: 1.8100 - val_accuracy: 0.8571 - val_precision: 0.0000e+00 - val_recall: 0.0000e+00 - val_auc: 0.6427 - val_f1_score: 0.0000e+00\n",
      "Epoch 15/60\n",
      "359/359 [==============================] - 281s 784ms/step - loss: 1.8119 - accuracy: 0.8571 - precision: 0.0000e+00 - recall: 0.0000e+00 - auc: 0.6432 - f1_score: 0.0000e+00 - val_loss: 1.8096 - val_accuracy: 0.8571 - val_precision: 0.0000e+00 - val_recall: 0.0000e+00 - val_auc: 0.6438 - val_f1_score: 0.0000e+00\n",
      "Epoch 16/60\n",
      "359/359 [==============================] - 226s 631ms/step - loss: 1.8122 - accuracy: 0.8571 - precision: 0.0000e+00 - recall: 0.0000e+00 - auc: 0.6424 - f1_score: 0.0000e+00 - val_loss: 1.8097 - val_accuracy: 0.8571 - val_precision: 0.0000e+00 - val_recall: 0.0000e+00 - val_auc: 0.6438 - val_f1_score: 0.0000e+00\n",
      "Epoch 17/60\n",
      "359/359 [==============================] - 440s 1s/step - loss: 1.8126 - accuracy: 0.8571 - precision: 0.0000e+00 - recall: 0.0000e+00 - auc: 0.6419 - f1_score: 0.0000e+00 - val_loss: 1.8105 - val_accuracy: 0.8571 - val_precision: 0.0000e+00 - val_recall: 0.0000e+00 - val_auc: 0.6432 - val_f1_score: 0.0000e+00\n",
      "Epoch 18/60\n",
      "359/359 [==============================] - 92s 256ms/step - loss: 1.8124 - accuracy: 0.8571 - precision: 0.0000e+00 - recall: 0.0000e+00 - auc: 0.6423 - f1_score: 0.0000e+00 - val_loss: 1.8096 - val_accuracy: 0.8571 - val_precision: 0.0000e+00 - val_recall: 0.0000e+00 - val_auc: 0.6443 - val_f1_score: 0.0000e+00\n",
      "Epoch 19/60\n",
      "359/359 [==============================] - 92s 256ms/step - loss: 1.8124 - accuracy: 0.8571 - precision: 0.0000e+00 - recall: 0.0000e+00 - auc: 0.6421 - f1_score: 0.0000e+00 - val_loss: 1.8098 - val_accuracy: 0.8571 - val_precision: 0.0000e+00 - val_recall: 0.0000e+00 - val_auc: 0.6431 - val_f1_score: 0.0000e+00\n",
      "Epoch 20/60\n",
      "359/359 [==============================] - 92s 256ms/step - loss: 1.8122 - accuracy: 0.8571 - precision: 0.0000e+00 - recall: 0.0000e+00 - auc: 0.6420 - f1_score: 0.0000e+00 - val_loss: 1.8103 - val_accuracy: 0.8571 - val_precision: 0.0000e+00 - val_recall: 0.0000e+00 - val_auc: 0.6438 - val_f1_score: 0.0000e+00\n",
      "Epoch 21/60\n",
      "359/359 [==============================] - 93s 259ms/step - loss: 1.8123 - accuracy: 0.8571 - precision: 0.0000e+00 - recall: 0.0000e+00 - auc: 0.6423 - f1_score: 0.0000e+00 - val_loss: 1.8100 - val_accuracy: 0.8571 - val_precision: 0.0000e+00 - val_recall: 0.0000e+00 - val_auc: 0.6438 - val_f1_score: 0.0000e+00\n",
      "Epoch 22/60\n",
      "359/359 [==============================] - 92s 257ms/step - loss: 1.8120 - accuracy: 0.8571 - precision: 0.0000e+00 - recall: 0.0000e+00 - auc: 0.6421 - f1_score: 0.0000e+00 - val_loss: 1.8096 - val_accuracy: 0.8571 - val_precision: 0.0000e+00 - val_recall: 0.0000e+00 - val_auc: 0.6435 - val_f1_score: 0.0000e+00\n",
      "Epoch 23/60\n",
      "359/359 [==============================] - 93s 260ms/step - loss: 1.8118 - accuracy: 0.8571 - precision: 0.0000e+00 - recall: 0.0000e+00 - auc: 0.6424 - f1_score: 0.0000e+00 - val_loss: 1.8099 - val_accuracy: 0.8571 - val_precision: 0.0000e+00 - val_recall: 0.0000e+00 - val_auc: 0.6432 - val_f1_score: 0.0000e+00\n",
      "Epoch 24/60\n",
      "359/359 [==============================] - 95s 264ms/step - loss: 1.8113 - accuracy: 0.8571 - precision: 0.0000e+00 - recall: 0.0000e+00 - auc: 0.6433 - f1_score: 0.0000e+00 - val_loss: 1.8098 - val_accuracy: 0.8571 - val_precision: 0.0000e+00 - val_recall: 0.0000e+00 - val_auc: 0.6428 - val_f1_score: 0.0000e+00\n",
      "Epoch 25/60\n",
      "359/359 [==============================] - 92s 256ms/step - loss: 1.8114 - accuracy: 0.8571 - precision: 0.0000e+00 - recall: 0.0000e+00 - auc: 0.6422 - f1_score: 0.0000e+00 - val_loss: 1.8096 - val_accuracy: 0.8571 - val_precision: 0.0000e+00 - val_recall: 0.0000e+00 - val_auc: 0.6438 - val_f1_score: 0.0000e+00\n",
      "Epoch 26/60\n"
     ]
    },
    {
     "name": "stdout",
     "output_type": "stream",
     "text": [
      "359/359 [==============================] - 93s 259ms/step - loss: 1.8118 - accuracy: 0.8571 - precision: 0.0000e+00 - recall: 0.0000e+00 - auc: 0.6423 - f1_score: 0.0000e+00 - val_loss: 1.8098 - val_accuracy: 0.8571 - val_precision: 0.0000e+00 - val_recall: 0.0000e+00 - val_auc: 0.6444 - val_f1_score: 0.0000e+00\n",
      "Epoch 27/60\n",
      "359/359 [==============================] - 92s 256ms/step - loss: 1.8110 - accuracy: 0.8571 - precision: 0.0000e+00 - recall: 0.0000e+00 - auc: 0.6432 - f1_score: 0.0000e+00 - val_loss: 1.8100 - val_accuracy: 0.8571 - val_precision: 0.0000e+00 - val_recall: 0.0000e+00 - val_auc: 0.6433 - val_f1_score: 0.0000e+00\n",
      "Epoch 28/60\n",
      "359/359 [==============================] - 92s 256ms/step - loss: 1.8114 - accuracy: 0.8571 - precision: 0.0000e+00 - recall: 0.0000e+00 - auc: 0.6424 - f1_score: 0.0000e+00 - val_loss: 1.8101 - val_accuracy: 0.8571 - val_precision: 0.0000e+00 - val_recall: 0.0000e+00 - val_auc: 0.6430 - val_f1_score: 0.0000e+00\n",
      "Epoch 29/60\n",
      "359/359 [==============================] - 92s 255ms/step - loss: 1.8116 - accuracy: 0.8571 - precision: 0.0000e+00 - recall: 0.0000e+00 - auc: 0.6419 - f1_score: 0.0000e+00 - val_loss: 1.8098 - val_accuracy: 0.8571 - val_precision: 0.0000e+00 - val_recall: 0.0000e+00 - val_auc: 0.6430 - val_f1_score: 0.0000e+00\n",
      "Epoch 30/60\n",
      "359/359 [==============================] - 91s 254ms/step - loss: 1.8107 - accuracy: 0.8571 - precision: 0.0000e+00 - recall: 0.0000e+00 - auc: 0.6433 - f1_score: 0.0000e+00 - val_loss: 1.8099 - val_accuracy: 0.8571 - val_precision: 0.0000e+00 - val_recall: 0.0000e+00 - val_auc: 0.6438 - val_f1_score: 0.0000e+00\n",
      "Epoch 31/60\n",
      "359/359 [==============================] - 92s 256ms/step - loss: 1.8113 - accuracy: 0.8571 - precision: 0.0000e+00 - recall: 0.0000e+00 - auc: 0.6430 - f1_score: 0.0000e+00 - val_loss: 1.8099 - val_accuracy: 0.8571 - val_precision: 0.0000e+00 - val_recall: 0.0000e+00 - val_auc: 0.6430 - val_f1_score: 0.0000e+00\n",
      "Epoch 32/60\n",
      "359/359 [==============================] - 92s 256ms/step - loss: 1.8113 - accuracy: 0.8571 - precision: 0.0000e+00 - recall: 0.0000e+00 - auc: 0.6422 - f1_score: 0.0000e+00 - val_loss: 1.8099 - val_accuracy: 0.8571 - val_precision: 0.0000e+00 - val_recall: 0.0000e+00 - val_auc: 0.6438 - val_f1_score: 0.0000e+00\n",
      "Epoch 33/60\n",
      "359/359 [==============================] - 92s 256ms/step - loss: 1.8114 - accuracy: 0.8571 - precision: 0.0000e+00 - recall: 0.0000e+00 - auc: 0.6424 - f1_score: 0.0000e+00 - val_loss: 1.8098 - val_accuracy: 0.8571 - val_precision: 0.0000e+00 - val_recall: 0.0000e+00 - val_auc: 0.6432 - val_f1_score: 0.0000e+00\n",
      "Epoch 34/60\n",
      "359/359 [==============================] - 94s 261ms/step - loss: 1.8109 - accuracy: 0.8571 - precision: 0.0000e+00 - recall: 0.0000e+00 - auc: 0.6424 - f1_score: 0.0000e+00 - val_loss: 1.8099 - val_accuracy: 0.8571 - val_precision: 0.0000e+00 - val_recall: 0.0000e+00 - val_auc: 0.6434 - val_f1_score: 0.0000e+00\n",
      "Epoch 35/60\n",
      "359/359 [==============================] - 92s 255ms/step - loss: 1.8111 - accuracy: 0.8571 - precision: 0.0000e+00 - recall: 0.0000e+00 - auc: 0.6422 - f1_score: 0.0000e+00 - val_loss: 1.8100 - val_accuracy: 0.8571 - val_precision: 0.0000e+00 - val_recall: 0.0000e+00 - val_auc: 0.6438 - val_f1_score: 0.0000e+00\n",
      "Epoch 36/60\n",
      "359/359 [==============================] - 92s 256ms/step - loss: 1.8110 - accuracy: 0.8571 - precision: 0.0000e+00 - recall: 0.0000e+00 - auc: 0.6427 - f1_score: 0.0000e+00 - val_loss: 1.8100 - val_accuracy: 0.8571 - val_precision: 0.0000e+00 - val_recall: 0.0000e+00 - val_auc: 0.6434 - val_f1_score: 0.0000e+00\n",
      "Epoch 37/60\n",
      "359/359 [==============================] - 92s 257ms/step - loss: 1.8109 - accuracy: 0.8571 - precision: 0.0000e+00 - recall: 0.0000e+00 - auc: 0.6431 - f1_score: 0.0000e+00 - val_loss: 1.8097 - val_accuracy: 0.8571 - val_precision: 0.0000e+00 - val_recall: 0.0000e+00 - val_auc: 0.6435 - val_f1_score: 0.0000e+00\n",
      "Epoch 38/60\n",
      "359/359 [==============================] - 93s 260ms/step - loss: 1.8109 - accuracy: 0.8571 - precision: 0.0000e+00 - recall: 0.0000e+00 - auc: 0.6428 - f1_score: 0.0000e+00 - val_loss: 1.8097 - val_accuracy: 0.8571 - val_precision: 0.0000e+00 - val_recall: 0.0000e+00 - val_auc: 0.6438 - val_f1_score: 0.0000e+00\n",
      "Epoch 39/60\n",
      "359/359 [==============================] - 93s 258ms/step - loss: 1.8114 - accuracy: 0.8571 - precision: 0.0000e+00 - recall: 0.0000e+00 - auc: 0.6419 - f1_score: 0.0000e+00 - val_loss: 1.8098 - val_accuracy: 0.8571 - val_precision: 0.0000e+00 - val_recall: 0.0000e+00 - val_auc: 0.6436 - val_f1_score: 0.0000e+00\n",
      "Epoch 40/60\n",
      "359/359 [==============================] - 92s 255ms/step - loss: 1.8105 - accuracy: 0.8571 - precision: 0.0000e+00 - recall: 0.0000e+00 - auc: 0.6432 - f1_score: 0.0000e+00 - val_loss: 1.8097 - val_accuracy: 0.8571 - val_precision: 0.0000e+00 - val_recall: 0.0000e+00 - val_auc: 0.6438 - val_f1_score: 0.0000e+00\n",
      "Epoch 41/60\n",
      "359/359 [==============================] - 93s 260ms/step - loss: 1.8110 - accuracy: 0.8571 - precision: 0.0000e+00 - recall: 0.0000e+00 - auc: 0.6428 - f1_score: 0.0000e+00 - val_loss: 1.8096 - val_accuracy: 0.8571 - val_precision: 0.0000e+00 - val_recall: 0.0000e+00 - val_auc: 0.6431 - val_f1_score: 0.0000e+00\n",
      "Epoch 42/60\n",
      "359/359 [==============================] - 93s 260ms/step - loss: 1.8107 - accuracy: 0.8571 - precision: 0.0000e+00 - recall: 0.0000e+00 - auc: 0.6423 - f1_score: 0.0000e+00 - val_loss: 1.8097 - val_accuracy: 0.8571 - val_precision: 0.0000e+00 - val_recall: 0.0000e+00 - val_auc: 0.6435 - val_f1_score: 0.0000e+00\n",
      "Epoch 43/60\n",
      "359/359 [==============================] - 94s 261ms/step - loss: 1.8106 - accuracy: 0.8571 - precision: 0.0000e+00 - recall: 0.0000e+00 - auc: 0.6428 - f1_score: 0.0000e+00 - val_loss: 1.8099 - val_accuracy: 0.8571 - val_precision: 0.0000e+00 - val_recall: 0.0000e+00 - val_auc: 0.6438 - val_f1_score: 0.0000e+00\n",
      "Epoch 44/60\n",
      "359/359 [==============================] - 92s 257ms/step - loss: 1.8104 - accuracy: 0.8571 - precision: 0.0000e+00 - recall: 0.0000e+00 - auc: 0.6440 - f1_score: 0.0000e+00 - val_loss: 1.8101 - val_accuracy: 0.8571 - val_precision: 0.0000e+00 - val_recall: 0.0000e+00 - val_auc: 0.6430 - val_f1_score: 0.0000e+00\n",
      "Epoch 45/60\n",
      "359/359 [==============================] - 92s 257ms/step - loss: 1.8103 - accuracy: 0.8571 - precision: 0.0000e+00 - recall: 0.0000e+00 - auc: 0.6435 - f1_score: 0.0000e+00 - val_loss: 1.8098 - val_accuracy: 0.8571 - val_precision: 0.0000e+00 - val_recall: 0.0000e+00 - val_auc: 0.6430 - val_f1_score: 0.0000e+00\n",
      "Epoch 46/60\n",
      "359/359 [==============================] - 93s 259ms/step - loss: 1.8107 - accuracy: 0.8571 - precision: 0.0000e+00 - recall: 0.0000e+00 - auc: 0.6425 - f1_score: 0.0000e+00 - val_loss: 1.8097 - val_accuracy: 0.8571 - val_precision: 0.0000e+00 - val_recall: 0.0000e+00 - val_auc: 0.6438 - val_f1_score: 0.0000e+00\n",
      "Epoch 47/60\n",
      "359/359 [==============================] - 92s 257ms/step - loss: 1.8107 - accuracy: 0.8571 - precision: 0.0000e+00 - recall: 0.0000e+00 - auc: 0.6428 - f1_score: 0.0000e+00 - val_loss: 1.8095 - val_accuracy: 0.8571 - val_precision: 0.0000e+00 - val_recall: 0.0000e+00 - val_auc: 0.6438 - val_f1_score: 0.0000e+00\n",
      "Epoch 48/60\n",
      "359/359 [==============================] - 92s 256ms/step - loss: 1.8105 - accuracy: 0.8571 - precision: 0.0000e+00 - recall: 0.0000e+00 - auc: 0.6430 - f1_score: 0.0000e+00 - val_loss: 1.8097 - val_accuracy: 0.8571 - val_precision: 0.0000e+00 - val_recall: 0.0000e+00 - val_auc: 0.6432 - val_f1_score: 0.0000e+00\n",
      "Epoch 49/60\n",
      "359/359 [==============================] - 93s 259ms/step - loss: 1.8105 - accuracy: 0.8571 - precision: 0.0000e+00 - recall: 0.0000e+00 - auc: 0.6433 - f1_score: 0.0000e+00 - val_loss: 1.8096 - val_accuracy: 0.8571 - val_precision: 0.0000e+00 - val_recall: 0.0000e+00 - val_auc: 0.6438 - val_f1_score: 0.0000e+00\n",
      "Epoch 50/60\n",
      "359/359 [==============================] - 93s 259ms/step - loss: 1.8108 - accuracy: 0.8571 - precision: 0.0000e+00 - recall: 0.0000e+00 - auc: 0.6427 - f1_score: 0.0000e+00 - val_loss: 1.8097 - val_accuracy: 0.8571 - val_precision: 0.0000e+00 - val_recall: 0.0000e+00 - val_auc: 0.6437 - val_f1_score: 0.0000e+00\n",
      "Epoch 51/60\n"
     ]
    },
    {
     "name": "stdout",
     "output_type": "stream",
     "text": [
      "359/359 [==============================] - 92s 257ms/step - loss: 1.8106 - accuracy: 0.8571 - precision: 0.0000e+00 - recall: 0.0000e+00 - auc: 0.6420 - f1_score: 0.0000e+00 - val_loss: 1.8098 - val_accuracy: 0.8571 - val_precision: 0.0000e+00 - val_recall: 0.0000e+00 - val_auc: 0.6438 - val_f1_score: 0.0000e+00\n",
      "Epoch 52/60\n",
      "359/359 [==============================] - 92s 255ms/step - loss: 1.8105 - accuracy: 0.8571 - precision: 0.0000e+00 - recall: 0.0000e+00 - auc: 0.6427 - f1_score: 0.0000e+00 - val_loss: 1.8098 - val_accuracy: 0.8571 - val_precision: 0.0000e+00 - val_recall: 0.0000e+00 - val_auc: 0.6438 - val_f1_score: 0.0000e+00\n",
      "Epoch 53/60\n",
      "359/359 [==============================] - 92s 255ms/step - loss: 1.8104 - accuracy: 0.8571 - precision: 0.0000e+00 - recall: 0.0000e+00 - auc: 0.6424 - f1_score: 0.0000e+00 - val_loss: 1.8096 - val_accuracy: 0.8571 - val_precision: 0.0000e+00 - val_recall: 0.0000e+00 - val_auc: 0.6415 - val_f1_score: 0.0000e+00\n",
      "Epoch 54/60\n",
      "359/359 [==============================] - 91s 254ms/step - loss: 1.8106 - accuracy: 0.8571 - precision: 0.0000e+00 - recall: 0.0000e+00 - auc: 0.6422 - f1_score: 0.0000e+00 - val_loss: 1.8096 - val_accuracy: 0.8571 - val_precision: 0.0000e+00 - val_recall: 0.0000e+00 - val_auc: 0.6438 - val_f1_score: 0.0000e+00\n",
      "Epoch 55/60\n",
      "359/359 [==============================] - 91s 254ms/step - loss: 1.8103 - accuracy: 0.8571 - precision: 0.0000e+00 - recall: 0.0000e+00 - auc: 0.6437 - f1_score: 0.0000e+00 - val_loss: 1.8100 - val_accuracy: 0.8571 - val_precision: 0.0000e+00 - val_recall: 0.0000e+00 - val_auc: 0.6428 - val_f1_score: 0.0000e+00\n",
      "Epoch 56/60\n",
      "359/359 [==============================] - 91s 255ms/step - loss: 1.8102 - accuracy: 0.8571 - precision: 0.0000e+00 - recall: 0.0000e+00 - auc: 0.6430 - f1_score: 0.0000e+00 - val_loss: 1.8098 - val_accuracy: 0.8571 - val_precision: 0.0000e+00 - val_recall: 0.0000e+00 - val_auc: 0.6434 - val_f1_score: 0.0000e+00\n",
      "Epoch 57/60\n",
      "359/359 [==============================] - 92s 257ms/step - loss: 1.8106 - accuracy: 0.8571 - precision: 0.0000e+00 - recall: 0.0000e+00 - auc: 0.6420 - f1_score: 0.0000e+00 - val_loss: 1.8096 - val_accuracy: 0.8571 - val_precision: 0.0000e+00 - val_recall: 0.0000e+00 - val_auc: 0.6438 - val_f1_score: 0.0000e+00\n",
      "Epoch 58/60\n",
      "359/359 [==============================] - 93s 258ms/step - loss: 1.8103 - accuracy: 0.8571 - precision: 0.0000e+00 - recall: 0.0000e+00 - auc: 0.6434 - f1_score: 0.0000e+00 - val_loss: 1.8098 - val_accuracy: 0.8571 - val_precision: 0.0000e+00 - val_recall: 0.0000e+00 - val_auc: 0.6434 - val_f1_score: 0.0000e+00\n",
      "Epoch 59/60\n",
      "359/359 [==============================] - 91s 254ms/step - loss: 1.8100 - accuracy: 0.8571 - precision: 0.0000e+00 - recall: 0.0000e+00 - auc: 0.6435 - f1_score: 0.0000e+00 - val_loss: 1.8099 - val_accuracy: 0.8571 - val_precision: 0.0000e+00 - val_recall: 0.0000e+00 - val_auc: 0.6434 - val_f1_score: 0.0000e+00\n",
      "Epoch 60/60\n",
      "359/359 [==============================] - 92s 257ms/step - loss: 1.8104 - accuracy: 0.8571 - precision: 0.0000e+00 - recall: 0.0000e+00 - auc: 0.6432 - f1_score: 0.0000e+00 - val_loss: 1.8097 - val_accuracy: 0.8571 - val_precision: 0.0000e+00 - val_recall: 0.0000e+00 - val_auc: 0.6435 - val_f1_score: 0.0000e+00\n"
     ]
    }
   ],
   "source": [
    "epochs = 60\n",
    "batch_size = 64\n",
    "history = model.fit(x = train_dataset,epochs = epochs,validation_data = valid_dataset)"
   ]
  },
  {
   "cell_type": "markdown",
   "metadata": {},
   "source": [
    "## Salvando o history em json"
   ]
  },
  {
   "cell_type": "code",
   "execution_count": 28,
   "metadata": {},
   "outputs": [],
   "source": [
    "hist_df = pd.DataFrame(history.history) \n",
    "\n",
    "# save to json:  \n",
    "hist_json_file = 'RESNET50/history.json' \n",
    "with open(hist_json_file, mode='w') as f:\n",
    "    hist_df.to_json(f)"
   ]
  },
  {
   "cell_type": "markdown",
   "metadata": {},
   "source": [
    "## Salvando o modelo"
   ]
  },
  {
   "cell_type": "code",
   "execution_count": 24,
   "metadata": {},
   "outputs": [],
   "source": [
    "    def get_config(self):\n",
    "\n",
    "        config = super().get_config().copy()\n",
    "        config.update({\n",
    "            'vocab_size': self.vocab_size,\n",
    "            'num_layers': self.num_layers,\n",
    "            'units': self.units,\n",
    "            'd_model': self.d_model,\n",
    "            'num_heads': self.num_heads,\n",
    "            'dropout': self.dropout,\n",
    "        })\n",
    "        return config"
   ]
  },
  {
   "cell_type": "code",
   "execution_count": 25,
   "metadata": {},
   "outputs": [
    {
     "name": "stdout",
     "output_type": "stream",
     "text": [
      "WARNING:tensorflow:Compiled the loaded model, but the compiled metrics have yet to be built. `model.compile_metrics` will be empty until you train or evaluate the model.\n",
      "INFO:tensorflow:Assets written to: RESNET50/custom_model\\assets\n"
     ]
    }
   ],
   "source": [
    "custom_model.save(\"RESNET50/custom_model\")"
   ]
  },
  {
   "cell_type": "code",
   "execution_count": 26,
   "metadata": {},
   "outputs": [
    {
     "data": {
      "image/png": "[encoded data removed]",
      "text/plain": [
       "<Figure size 864x288 with 2 Axes>"
      ]
     },
     "metadata": {
      "needs_background": "light"
     },
     "output_type": "display_data"
    }
   ],
   "source": [
    "fig , ax = plt.subplots(1,2)\n",
    "train_acc = history.history['accuracy']\n",
    "train_loss = history.history['loss']\n",
    "train_l = history.history['val_accuracy']\n",
    "fig.set_size_inches(12,4)\n",
    "\n",
    "ax[0].plot(history.history['accuracy'])\n",
    "ax[0].plot(history.history['val_accuracy'])\n",
    "ax[0].set_title('Training Accuracy vs Validation Accuracy')\n",
    "ax[0].set_ylabel('Accuracy')\n",
    "ax[0].set_xlabel('Epoch')\n",
    "ax[0].legend(['Train', 'Validation'], loc='upper left')\n",
    "\n",
    "ax[1].plot(history.history['loss'])\n",
    "ax[1].plot(history.history['val_loss'])\n",
    "ax[1].set_title('Training Loss vs Validation Loss')\n",
    "ax[1].set_ylabel('Loss')\n",
    "ax[1].set_xlabel('Epoch')\n",
    "ax[1].legend(['Train', 'Validation'], loc='upper left')\n",
    "\n",
    "plt.show()"
   ]
  },
  {
   "cell_type": "markdown",
   "metadata": {},
   "source": [
    "## Evaluate "
   ]
  },
  {
   "cell_type": "code",
   "execution_count": 27,
   "metadata": {},
   "outputs": [
    {
     "name": "stdout",
     "output_type": "stream",
     "text": [
      "113/113 [==============================] - 254s 2s/step - loss: 1.8134 - accuracy: 0.8571 - precision: 0.0000e+00 - recall: 0.0000e+00 - auc: 0.6405 - f1_score: 0.0000e+00\n"
     ]
    }
   ],
   "source": [
    "results = model.evaluate(test_dataset, batch_size=64)"
   ]
  },
  {
   "cell_type": "code",
   "execution_count": null,
   "metadata": {},
   "outputs": [],
   "source": []
  },
  {
   "cell_type": "code",
   "execution_count": null,
   "metadata": {},
   "outputs": [],
   "source": []
  }
 ],
 "metadata": {
  "kernelspec": {
   "display_name": "Python 3",
   "language": "python",
   "name": "python3"
  },
  "language_info": {
   "codemirror_mode": {
    "name": "ipython",
    "version": 3
   },
   "file_extension": ".py",
   "mimetype": "text/x-python",
   "name": "python",
   "nbconvert_exporter": "python",
   "pygments_lexer": "ipython3",
   "version": "3.8.5"
  }
 },
 "nbformat": 4,
 "nbformat_minor": 4
}
